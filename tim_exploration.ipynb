{
 "cells": [
  {
   "cell_type": "code",
   "execution_count": 2,
   "metadata": {},
   "outputs": [],
   "source": [
    "import pandas as pd\n",
    "import matplotlib.pyplot as plt"
   ]
  },
  {
   "cell_type": "code",
   "execution_count": 3,
   "metadata": {},
   "outputs": [],
   "source": [
    "land_df = pd.read_csv('Data/fao_data_land_data.csv')"
   ]
  },
  {
   "cell_type": "code",
   "execution_count": 4,
   "metadata": {},
   "outputs": [
    {
     "data": {
      "text/plain": [
       "0                           agricultural_area\n",
       "11162             agricultural_area_irrigated\n",
       "11485                             arable_land\n",
       "22451         arable_land_and_permanent_crops\n",
       "33464                            country_area\n",
       "44888                             fallow_land\n",
       "45313                             forest_area\n",
       "49908                            inland_water\n",
       "58097                               land_area\n",
       "69522                              other_land\n",
       "73988                    perm_crops_irrigated\n",
       "74138                perm_crops_non_irrigated\n",
       "74286        perm_meadows_pastures_cult_irrig\n",
       "74326    perm_meadows_pastures_cult_non_irrig\n",
       "74357        perm_meadows_pastures_cultivated\n",
       "74502         perm_meadows_pastures_nat_grown\n",
       "74671                         permanent_crops\n",
       "84796          permanent_meadows_and_pastures\n",
       "95144                    temp_crops_irrigated\n",
       "95299                temp_crops_non_irrigated\n",
       "95453         temp_meadows_pastures_irrigated\n",
       "95463         temp_meadows_pastures_non_irrig\n",
       "95470                         temporary_crops\n",
       "95787          temporary_meadows_and_pastures\n",
       "95943      total_area_equipped_for_irrigation\n",
       "Name: category, dtype: object"
      ]
     },
     "execution_count": 4,
     "metadata": {},
     "output_type": "execute_result"
    }
   ],
   "source": [
    "land_df.category.drop_duplicates()"
   ]
  },
  {
   "cell_type": "code",
   "execution_count": 5,
   "metadata": {},
   "outputs": [],
   "source": [
    "forest_area_df = land_df[land_df.category=='forest_area']"
   ]
  },
  {
   "cell_type": "code",
   "execution_count": 6,
   "metadata": {},
   "outputs": [
    {
     "data": {
      "text/plain": [
       "array([['fnSeqID', 'Footnote'],\n",
       "       ['E ', 'Expert sources from FAO (including other divisions)'],\n",
       "       ['A ', 'May include official, semi-official or estimated data'],\n",
       "       ['Q ',\n",
       "        'Official data reported on FAO Questionnaires from countries'],\n",
       "       ['Fm', 'Manual Estimation']], dtype=object)"
      ]
     },
     "execution_count": 6,
     "metadata": {},
     "output_type": "execute_result"
    }
   ],
   "source": [
    "forest_area_df[forest_area_df.unit.isna()][['country_or_area', 'element_code']].values"
   ]
  },
  {
   "cell_type": "code",
   "execution_count": 7,
   "metadata": {},
   "outputs": [
    {
     "data": {
      "text/html": [
       "<div>\n",
       "<style scoped>\n",
       "    .dataframe tbody tr th:only-of-type {\n",
       "        vertical-align: middle;\n",
       "    }\n",
       "\n",
       "    .dataframe tbody tr th {\n",
       "        vertical-align: top;\n",
       "    }\n",
       "\n",
       "    .dataframe thead th {\n",
       "        text-align: right;\n",
       "    }\n",
       "</style>\n",
       "<table border=\"1\" class=\"dataframe\">\n",
       "  <thead>\n",
       "    <tr style=\"text-align: right;\">\n",
       "      <th></th>\n",
       "      <th>country_or_area</th>\n",
       "      <th>element_code</th>\n",
       "      <th>element</th>\n",
       "      <th>year</th>\n",
       "      <th>unit</th>\n",
       "      <th>value</th>\n",
       "      <th>value_footnotes</th>\n",
       "      <th>category</th>\n",
       "    </tr>\n",
       "  </thead>\n",
       "  <tbody>\n",
       "    <tr>\n",
       "      <td>45313</td>\n",
       "      <td>Afghanistan</td>\n",
       "      <td>11</td>\n",
       "      <td>Area</td>\n",
       "      <td>2007.0</td>\n",
       "      <td>1000 Ha</td>\n",
       "      <td>807.8</td>\n",
       "      <td>Fm</td>\n",
       "      <td>forest_area</td>\n",
       "    </tr>\n",
       "    <tr>\n",
       "      <td>45314</td>\n",
       "      <td>Afghanistan</td>\n",
       "      <td>11</td>\n",
       "      <td>Area</td>\n",
       "      <td>2006.0</td>\n",
       "      <td>1000 Ha</td>\n",
       "      <td>837.4</td>\n",
       "      <td>Fm</td>\n",
       "      <td>forest_area</td>\n",
       "    </tr>\n",
       "    <tr>\n",
       "      <td>45315</td>\n",
       "      <td>Afghanistan</td>\n",
       "      <td>11</td>\n",
       "      <td>Area</td>\n",
       "      <td>2005.0</td>\n",
       "      <td>1000 Ha</td>\n",
       "      <td>867.0</td>\n",
       "      <td>E</td>\n",
       "      <td>forest_area</td>\n",
       "    </tr>\n",
       "    <tr>\n",
       "      <td>45316</td>\n",
       "      <td>Afghanistan</td>\n",
       "      <td>11</td>\n",
       "      <td>Area</td>\n",
       "      <td>2004.0</td>\n",
       "      <td>1000 Ha</td>\n",
       "      <td>896.6</td>\n",
       "      <td>Fm</td>\n",
       "      <td>forest_area</td>\n",
       "    </tr>\n",
       "    <tr>\n",
       "      <td>45317</td>\n",
       "      <td>Afghanistan</td>\n",
       "      <td>11</td>\n",
       "      <td>Area</td>\n",
       "      <td>2003.0</td>\n",
       "      <td>1000 Ha</td>\n",
       "      <td>926.2</td>\n",
       "      <td>Fm</td>\n",
       "      <td>forest_area</td>\n",
       "    </tr>\n",
       "  </tbody>\n",
       "</table>\n",
       "</div>"
      ],
      "text/plain": [
       "      country_or_area element_code element    year     unit  value  \\\n",
       "45313     Afghanistan           11    Area  2007.0  1000 Ha  807.8   \n",
       "45314     Afghanistan           11    Area  2006.0  1000 Ha  837.4   \n",
       "45315     Afghanistan           11    Area  2005.0  1000 Ha  867.0   \n",
       "45316     Afghanistan           11    Area  2004.0  1000 Ha  896.6   \n",
       "45317     Afghanistan           11    Area  2003.0  1000 Ha  926.2   \n",
       "\n",
       "      value_footnotes     category  \n",
       "45313              Fm  forest_area  \n",
       "45314              Fm  forest_area  \n",
       "45315              E   forest_area  \n",
       "45316              Fm  forest_area  \n",
       "45317              Fm  forest_area  "
      ]
     },
     "execution_count": 7,
     "metadata": {},
     "output_type": "execute_result"
    }
   ],
   "source": [
    "forest_area_df.head()"
   ]
  },
  {
   "cell_type": "code",
   "execution_count": 8,
   "metadata": {},
   "outputs": [],
   "source": [
    "world_forest = forest_area_df[forest_area_df.country_or_area=='World +']"
   ]
  },
  {
   "cell_type": "code",
   "execution_count": 9,
   "metadata": {},
   "outputs": [
    {
     "data": {
      "image/png": "[encoded data removed]",
      "text/plain": [
       "<Figure size 432x288 with 1 Axes>"
      ]
     },
     "metadata": {
      "needs_background": "light"
     },
     "output_type": "display_data"
    },
    {
     "name": "stdout",
     "output_type": "stream",
     "text": [
      "Number of square kilometers of forest area lost since 1990: 1399550\n"
     ]
    }
   ],
   "source": [
    "plt.plot(world_forest.year.values, \n",
    "         world_forest.value.values)\n",
    "plt.show()\n",
    "print('Number of square kilometers of forest area lost since 1990:', \n",
    "      10*int(world_forest.value.max() - world_forest.value.min())) # same as Peru"
   ]
  },
  {
   "cell_type": "code",
   "execution_count": 10,
   "metadata": {},
   "outputs": [
    {
     "data": {
      "text/plain": [
       "45313                                                   11\n",
       "49903                                             Footnote\n",
       "49904    Expert sources from FAO (including other divis...\n",
       "49905    May include official, semi-official or estimat...\n",
       "49906    Official data reported on FAO Questionnaires f...\n",
       "49907                                    Manual Estimation\n",
       "Name: element_code, dtype: object"
      ]
     },
     "execution_count": 10,
     "metadata": {},
     "output_type": "execute_result"
    }
   ],
   "source": [
    "forest_area_df.element_code.drop_duplicates()"
   ]
  },
  {
   "cell_type": "code",
   "execution_count": 11,
   "metadata": {},
   "outputs": [
    {
     "data": {
      "text/plain": [
       "array(['Afghanistan', 'Africa +', 'Albania', 'Algeria', 'American Samoa',\n",
       "       'Americas +', 'Andorra', 'Angola', 'Antigua and Barbuda',\n",
       "       'Argentina', 'Armenia', 'Aruba', 'Asia +', 'Australia',\n",
       "       'Australia and New Zealand +', 'Austria', 'Azerbaijan', 'Bahamas',\n",
       "       'Bahrain', 'Bangladesh', 'Barbados', 'Belarus', 'Belgium',\n",
       "       'Belgium-Luxembourg', 'Belize', 'Benin', 'Bermuda', 'Bhutan',\n",
       "       'Bolivia', 'Bosnia and Herzegovina', 'Botswana', 'Brazil',\n",
       "       'British Virgin Islands', 'Brunei Darussalam', 'Bulgaria',\n",
       "       'Burkina Faso', 'Burundi', 'Cambodia', 'Cameroon', 'Canada',\n",
       "       'Cape Verde', 'Caribbean +', 'Cayman Islands',\n",
       "       'Central African Republic', 'Central America +', 'Central Asia +',\n",
       "       'Chad', 'Channel Islands', 'Chile', 'China', 'Colombia', 'Comoros',\n",
       "       'Congo', 'Congo, Democratic Republic of', 'Cook Islands',\n",
       "       'Costa Rica', \"Côte d'Ivoire\", 'Croatia', 'Cuba', 'Cyprus',\n",
       "       'Czech Republic', 'Czechoslovakia', 'Denmark', 'Djibouti',\n",
       "       'Dominica', 'Dominican Republic', 'Eastern Africa +',\n",
       "       'Eastern Asia +', 'Eastern Europe +', 'Ecuador', 'Egypt',\n",
       "       'El Salvador', 'Equatorial Guinea', 'Eritrea', 'Estonia',\n",
       "       'Ethiopia', 'Ethiopia PDR', 'Europe +', 'European Union +',\n",
       "       'Falkland Islands', 'Faroe Islands', 'Fiji', 'Finland', 'France',\n",
       "       'French Guiana', 'French Polynesia', 'Gabon', 'Gambia', 'Georgia',\n",
       "       'Germany', 'Ghana', 'Greece', 'Greenland', 'Grenada', 'Guadeloupe',\n",
       "       'Guam', 'Guatemala', 'Guinea', 'Guinea-Bissau', 'Guyana', 'Haiti',\n",
       "       'Honduras', 'Hungary', 'Iceland', 'India', 'Indonesia',\n",
       "       'Iran, Islamic Republic of', 'Iraq', 'Ireland', 'Isle of Man',\n",
       "       'Israel', 'Italy', 'Jamaica', 'Japan', 'Jordan', 'Kazakhstan',\n",
       "       'Kenya', 'Kiribati', \"Korea, Democratic People's Republic of\",\n",
       "       'Korea, Republic of', 'Kuwait', 'Kyrgyzstan',\n",
       "       'LandLocked developing countries +',\n",
       "       \"Lao People's Democratic Republic\", 'Latvia',\n",
       "       'Least Developed Countries +', 'Lebanon', 'Lesotho', 'Liberia',\n",
       "       'Libyan Arab Jamahiriya', 'Liechtenstein', 'Lithuania',\n",
       "       'Low Income Food Deficit Countries +', 'Luxembourg', 'Madagascar',\n",
       "       'Malawi', 'Malaysia', 'Maldives', 'Mali', 'Malta',\n",
       "       'Marshall Islands', 'Martinique', 'Mauritania', 'Mauritius',\n",
       "       'Mayotte', 'Melanesia +', 'Mexico', 'Micronesia +',\n",
       "       'Micronesia, Federated States of', 'Middle Africa +', 'Moldova',\n",
       "       'Mongolia', 'Montenegro', 'Montserrat', 'Morocco', 'Mozambique',\n",
       "       'Myanmar', 'Namibia', 'Nepal',\n",
       "       'Net Food Importing Developing Countries +', 'Netherlands',\n",
       "       'Netherlands Antilles', 'New Caledonia', 'New Zealand',\n",
       "       'Nicaragua', 'Niger', 'Nigeria', 'Niue', 'Norfolk Island',\n",
       "       'Northern Africa +', 'Northern America +', 'Northern Europe +',\n",
       "       'Northern Mariana Islands', 'Norway',\n",
       "       'Occupied Palestinian Territory', 'Oceania +', 'Oman',\n",
       "       'Pacific Is', 'Pakistan', 'Palau', 'Panama', 'Papua New Guinea',\n",
       "       'Paraguay', 'Peru', 'Philippines', 'Poland', 'Polynesia +',\n",
       "       'Portugal', 'Puerto Rico', 'Qatar', 'Réunion', 'Romania',\n",
       "       'Russian Federation', 'Rwanda', 'Saint Helena',\n",
       "       'Saint Kitts and Nevis', 'Saint Lucia',\n",
       "       'Saint Pierre and Miquelon', 'Saint Vincent and Grenadines',\n",
       "       'Samoa', 'San Marino', 'Sao Tome and Principe', 'Saudi Arabia',\n",
       "       'Senegal', 'Serbia', 'Serbia and Montenegro', 'Seychelles',\n",
       "       'Sierra Leone', 'Singapore', 'Slovakia', 'Slovenia',\n",
       "       'Small Island Developing States +', 'Solomon Islands', 'Somalia',\n",
       "       'South Africa', 'South America +', 'South-Eastern Asia +',\n",
       "       'Southern Africa +', 'Southern Asia +', 'Southern Europe +',\n",
       "       'Spain', 'Sri Lanka', 'Sudan', 'Suriname', 'Swaziland', 'Sweden',\n",
       "       'Switzerland', 'Syrian Arab Republic', 'Tajikistan',\n",
       "       'Tanzania, United Republic of', 'Thailand',\n",
       "       'The former Yugoslav Republic of Macedonia', 'Timor-Leste', 'Togo',\n",
       "       'Tonga', 'Trinidad and Tobago', 'Tunisia', 'Turkey',\n",
       "       'Turkmenistan', 'Turks and Caicos Islands', 'Tuvalu', 'Uganda',\n",
       "       'Ukraine', 'United Arab Emirates', 'United Kingdom',\n",
       "       'United States of America', 'Uruguay', 'US Virgin Islands', 'USSR',\n",
       "       'Uzbekistan', 'Vanuatu', 'Venezuela, Bolivarian Republic of',\n",
       "       'Viet Nam', 'Wallis and Futuna Islands', 'Western Africa +',\n",
       "       'Western Asia +', 'Western Europe +', 'Western Sahara', 'World +',\n",
       "       'Yemen', 'Yugoslav SFR', 'Zambia', 'Zimbabwe', 'fnSeqID', 'W ',\n",
       "       'E ', 'A ', 'F ', 'Q ', 'Fm', 'I ', 'Anguilla',\n",
       "       'British Indian Ocean Ter', 'Gibraltar', 'Nauru', 'Pitcairn',\n",
       "       'Tokelau'], dtype=object)"
      ]
     },
     "execution_count": 11,
     "metadata": {},
     "output_type": "execute_result"
    }
   ],
   "source": [
    "land_df.country_or_area.drop_duplicates().values"
   ]
  },
  {
   "cell_type": "code",
   "execution_count": 12,
   "metadata": {},
   "outputs": [],
   "source": [
    "agriculture_df = land_df[land_df.category=='agricultural_area']"
   ]
  },
  {
   "cell_type": "code",
   "execution_count": 13,
   "metadata": {},
   "outputs": [],
   "source": [
    "world_agriculture = agriculture_df[agriculture_df.country_or_area=='World +']"
   ]
  },
  {
   "cell_type": "code",
   "execution_count": 14,
   "metadata": {},
   "outputs": [
    {
     "data": {
      "image/png": "[encoded data removed]",
      "text/plain": [
       "<Figure size 432x288 with 1 Axes>"
      ]
     },
     "metadata": {
      "needs_background": "light"
     },
     "output_type": "display_data"
    },
    {
     "name": "stdout",
     "output_type": "stream",
     "text": [
      "0.10651677417103993\n"
     ]
    }
   ],
   "source": [
    "plt.plot(world_agriculture.year.values, world_agriculture.value.values)\n",
    "plt.show()\n",
    "print((world_agriculture[world_agriculture.year==world_agriculture.year.max()].value.values[0]\n",
    "     - world_agriculture[world_agriculture.year==world_agriculture.year.min()].value.values[0])\n",
    "     / world_agriculture[world_agriculture.year==world_agriculture.year.min()].value.values[0])"
   ]
  },
  {
   "cell_type": "code",
   "execution_count": 15,
   "metadata": {},
   "outputs": [],
   "source": [
    "population_df = pd.read_csv('Data/raw_data/Population_E_All_Data_(Normalized).csv', encoding='latin-1')"
   ]
  },
  {
   "cell_type": "code",
   "execution_count": 16,
   "metadata": {},
   "outputs": [
    {
     "data": {
      "text/html": [
       "<div>\n",
       "<style scoped>\n",
       "    .dataframe tbody tr th:only-of-type {\n",
       "        vertical-align: middle;\n",
       "    }\n",
       "\n",
       "    .dataframe tbody tr th {\n",
       "        vertical-align: top;\n",
       "    }\n",
       "\n",
       "    .dataframe thead th {\n",
       "        text-align: right;\n",
       "    }\n",
       "</style>\n",
       "<table border=\"1\" class=\"dataframe\">\n",
       "  <thead>\n",
       "    <tr style=\"text-align: right;\">\n",
       "      <th></th>\n",
       "      <th>Area Code</th>\n",
       "      <th>Area</th>\n",
       "      <th>Item Code</th>\n",
       "      <th>Item</th>\n",
       "      <th>Element Code</th>\n",
       "      <th>Element</th>\n",
       "      <th>Year Code</th>\n",
       "      <th>Year</th>\n",
       "      <th>Unit</th>\n",
       "      <th>Value</th>\n",
       "      <th>Flag</th>\n",
       "    </tr>\n",
       "  </thead>\n",
       "  <tbody>\n",
       "    <tr>\n",
       "      <td>0</td>\n",
       "      <td>2</td>\n",
       "      <td>Afghanistan</td>\n",
       "      <td>3010</td>\n",
       "      <td>Population - Est. &amp; Proj.</td>\n",
       "      <td>511</td>\n",
       "      <td>Total Population - Both sexes</td>\n",
       "      <td>1950</td>\n",
       "      <td>1950</td>\n",
       "      <td>1000 persons</td>\n",
       "      <td>7752.12</td>\n",
       "      <td>XU</td>\n",
       "    </tr>\n",
       "    <tr>\n",
       "      <td>1</td>\n",
       "      <td>2</td>\n",
       "      <td>Afghanistan</td>\n",
       "      <td>3010</td>\n",
       "      <td>Population - Est. &amp; Proj.</td>\n",
       "      <td>511</td>\n",
       "      <td>Total Population - Both sexes</td>\n",
       "      <td>1951</td>\n",
       "      <td>1951</td>\n",
       "      <td>1000 persons</td>\n",
       "      <td>7839.51</td>\n",
       "      <td>XU</td>\n",
       "    </tr>\n",
       "    <tr>\n",
       "      <td>2</td>\n",
       "      <td>2</td>\n",
       "      <td>Afghanistan</td>\n",
       "      <td>3010</td>\n",
       "      <td>Population - Est. &amp; Proj.</td>\n",
       "      <td>511</td>\n",
       "      <td>Total Population - Both sexes</td>\n",
       "      <td>1952</td>\n",
       "      <td>1952</td>\n",
       "      <td>1000 persons</td>\n",
       "      <td>7934.98</td>\n",
       "      <td>XU</td>\n",
       "    </tr>\n",
       "    <tr>\n",
       "      <td>3</td>\n",
       "      <td>2</td>\n",
       "      <td>Afghanistan</td>\n",
       "      <td>3010</td>\n",
       "      <td>Population - Est. &amp; Proj.</td>\n",
       "      <td>511</td>\n",
       "      <td>Total Population - Both sexes</td>\n",
       "      <td>1953</td>\n",
       "      <td>1953</td>\n",
       "      <td>1000 persons</td>\n",
       "      <td>8038.60</td>\n",
       "      <td>XU</td>\n",
       "    </tr>\n",
       "    <tr>\n",
       "      <td>4</td>\n",
       "      <td>2</td>\n",
       "      <td>Afghanistan</td>\n",
       "      <td>3010</td>\n",
       "      <td>Population - Est. &amp; Proj.</td>\n",
       "      <td>511</td>\n",
       "      <td>Total Population - Both sexes</td>\n",
       "      <td>1954</td>\n",
       "      <td>1954</td>\n",
       "      <td>1000 persons</td>\n",
       "      <td>8150.45</td>\n",
       "      <td>XU</td>\n",
       "    </tr>\n",
       "  </tbody>\n",
       "</table>\n",
       "</div>"
      ],
      "text/plain": [
       "   Area Code         Area  Item Code                       Item  Element Code  \\\n",
       "0          2  Afghanistan       3010  Population - Est. & Proj.           511   \n",
       "1          2  Afghanistan       3010  Population - Est. & Proj.           511   \n",
       "2          2  Afghanistan       3010  Population - Est. & Proj.           511   \n",
       "3          2  Afghanistan       3010  Population - Est. & Proj.           511   \n",
       "4          2  Afghanistan       3010  Population - Est. & Proj.           511   \n",
       "\n",
       "                         Element  Year Code  Year          Unit    Value Flag  \n",
       "0  Total Population - Both sexes       1950  1950  1000 persons  7752.12   XU  \n",
       "1  Total Population - Both sexes       1951  1951  1000 persons  7839.51   XU  \n",
       "2  Total Population - Both sexes       1952  1952  1000 persons  7934.98   XU  \n",
       "3  Total Population - Both sexes       1953  1953  1000 persons  8038.60   XU  \n",
       "4  Total Population - Both sexes       1954  1954  1000 persons  8150.45   XU  "
      ]
     },
     "execution_count": 16,
     "metadata": {},
     "output_type": "execute_result"
    }
   ],
   "source": [
    "population_df.head()"
   ]
  },
  {
   "cell_type": "code",
   "execution_count": 17,
   "metadata": {},
   "outputs": [],
   "source": [
    "world_population = population_df[(population_df.Element=='Total Population - Both sexes') \n",
    "                                 & (population_df.Area=='World')]"
   ]
  },
  {
   "cell_type": "code",
   "execution_count": 18,
   "metadata": {},
   "outputs": [
    {
     "data": {
      "text/html": [
       "<div>\n",
       "<style scoped>\n",
       "    .dataframe tbody tr th:only-of-type {\n",
       "        vertical-align: middle;\n",
       "    }\n",
       "\n",
       "    .dataframe tbody tr th {\n",
       "        vertical-align: top;\n",
       "    }\n",
       "\n",
       "    .dataframe thead th {\n",
       "        text-align: right;\n",
       "    }\n",
       "</style>\n",
       "<table border=\"1\" class=\"dataframe\">\n",
       "  <thead>\n",
       "    <tr style=\"text-align: right;\">\n",
       "      <th></th>\n",
       "      <th>Area Code</th>\n",
       "      <th>Area</th>\n",
       "      <th>Item Code</th>\n",
       "      <th>Item</th>\n",
       "      <th>Element Code</th>\n",
       "      <th>Element</th>\n",
       "      <th>Year Code</th>\n",
       "      <th>Year</th>\n",
       "      <th>Unit</th>\n",
       "      <th>Value</th>\n",
       "      <th>Flag</th>\n",
       "    </tr>\n",
       "  </thead>\n",
       "  <tbody>\n",
       "    <tr>\n",
       "      <td>137131</td>\n",
       "      <td>5000</td>\n",
       "      <td>World</td>\n",
       "      <td>3010</td>\n",
       "      <td>Population - Est. &amp; Proj.</td>\n",
       "      <td>511</td>\n",
       "      <td>Total Population - Both sexes</td>\n",
       "      <td>1950</td>\n",
       "      <td>1950</td>\n",
       "      <td>1000 persons</td>\n",
       "      <td>2536270.0</td>\n",
       "      <td>XU</td>\n",
       "    </tr>\n",
       "    <tr>\n",
       "      <td>137132</td>\n",
       "      <td>5000</td>\n",
       "      <td>World</td>\n",
       "      <td>3010</td>\n",
       "      <td>Population - Est. &amp; Proj.</td>\n",
       "      <td>511</td>\n",
       "      <td>Total Population - Both sexes</td>\n",
       "      <td>1951</td>\n",
       "      <td>1951</td>\n",
       "      <td>1000 persons</td>\n",
       "      <td>2583820.0</td>\n",
       "      <td>XU</td>\n",
       "    </tr>\n",
       "    <tr>\n",
       "      <td>137133</td>\n",
       "      <td>5000</td>\n",
       "      <td>World</td>\n",
       "      <td>3010</td>\n",
       "      <td>Population - Est. &amp; Proj.</td>\n",
       "      <td>511</td>\n",
       "      <td>Total Population - Both sexes</td>\n",
       "      <td>1952</td>\n",
       "      <td>1952</td>\n",
       "      <td>1000 persons</td>\n",
       "      <td>2630580.0</td>\n",
       "      <td>XU</td>\n",
       "    </tr>\n",
       "    <tr>\n",
       "      <td>137134</td>\n",
       "      <td>5000</td>\n",
       "      <td>World</td>\n",
       "      <td>3010</td>\n",
       "      <td>Population - Est. &amp; Proj.</td>\n",
       "      <td>511</td>\n",
       "      <td>Total Population - Both sexes</td>\n",
       "      <td>1953</td>\n",
       "      <td>1953</td>\n",
       "      <td>1000 persons</td>\n",
       "      <td>2677230.0</td>\n",
       "      <td>XU</td>\n",
       "    </tr>\n",
       "    <tr>\n",
       "      <td>137135</td>\n",
       "      <td>5000</td>\n",
       "      <td>World</td>\n",
       "      <td>3010</td>\n",
       "      <td>Population - Est. &amp; Proj.</td>\n",
       "      <td>511</td>\n",
       "      <td>Total Population - Both sexes</td>\n",
       "      <td>1954</td>\n",
       "      <td>1954</td>\n",
       "      <td>1000 persons</td>\n",
       "      <td>2724300.0</td>\n",
       "      <td>XU</td>\n",
       "    </tr>\n",
       "    <tr>\n",
       "      <td>...</td>\n",
       "      <td>...</td>\n",
       "      <td>...</td>\n",
       "      <td>...</td>\n",
       "      <td>...</td>\n",
       "      <td>...</td>\n",
       "      <td>...</td>\n",
       "      <td>...</td>\n",
       "      <td>...</td>\n",
       "      <td>...</td>\n",
       "      <td>...</td>\n",
       "      <td>...</td>\n",
       "    </tr>\n",
       "    <tr>\n",
       "      <td>137277</td>\n",
       "      <td>5000</td>\n",
       "      <td>World</td>\n",
       "      <td>3010</td>\n",
       "      <td>Population - Est. &amp; Proj.</td>\n",
       "      <td>511</td>\n",
       "      <td>Total Population - Both sexes</td>\n",
       "      <td>2096</td>\n",
       "      <td>2096</td>\n",
       "      <td>1000 persons</td>\n",
       "      <td>11139200.0</td>\n",
       "      <td>XU</td>\n",
       "    </tr>\n",
       "    <tr>\n",
       "      <td>137278</td>\n",
       "      <td>5000</td>\n",
       "      <td>World</td>\n",
       "      <td>3010</td>\n",
       "      <td>Population - Est. &amp; Proj.</td>\n",
       "      <td>511</td>\n",
       "      <td>Total Population - Both sexes</td>\n",
       "      <td>2097</td>\n",
       "      <td>2097</td>\n",
       "      <td>1000 persons</td>\n",
       "      <td>11151600.0</td>\n",
       "      <td>XU</td>\n",
       "    </tr>\n",
       "    <tr>\n",
       "      <td>137279</td>\n",
       "      <td>5000</td>\n",
       "      <td>World</td>\n",
       "      <td>3010</td>\n",
       "      <td>Population - Est. &amp; Proj.</td>\n",
       "      <td>511</td>\n",
       "      <td>Total Population - Both sexes</td>\n",
       "      <td>2098</td>\n",
       "      <td>2098</td>\n",
       "      <td>1000 persons</td>\n",
       "      <td>11163300.0</td>\n",
       "      <td>XU</td>\n",
       "    </tr>\n",
       "    <tr>\n",
       "      <td>137280</td>\n",
       "      <td>5000</td>\n",
       "      <td>World</td>\n",
       "      <td>3010</td>\n",
       "      <td>Population - Est. &amp; Proj.</td>\n",
       "      <td>511</td>\n",
       "      <td>Total Population - Both sexes</td>\n",
       "      <td>2099</td>\n",
       "      <td>2099</td>\n",
       "      <td>1000 persons</td>\n",
       "      <td>11174200.0</td>\n",
       "      <td>XU</td>\n",
       "    </tr>\n",
       "    <tr>\n",
       "      <td>137281</td>\n",
       "      <td>5000</td>\n",
       "      <td>World</td>\n",
       "      <td>3010</td>\n",
       "      <td>Population - Est. &amp; Proj.</td>\n",
       "      <td>511</td>\n",
       "      <td>Total Population - Both sexes</td>\n",
       "      <td>2100</td>\n",
       "      <td>2100</td>\n",
       "      <td>1000 persons</td>\n",
       "      <td>11184400.0</td>\n",
       "      <td>XU</td>\n",
       "    </tr>\n",
       "  </tbody>\n",
       "</table>\n",
       "<p>151 rows × 11 columns</p>\n",
       "</div>"
      ],
      "text/plain": [
       "        Area Code   Area  Item Code                       Item  Element Code  \\\n",
       "137131       5000  World       3010  Population - Est. & Proj.           511   \n",
       "137132       5000  World       3010  Population - Est. & Proj.           511   \n",
       "137133       5000  World       3010  Population - Est. & Proj.           511   \n",
       "137134       5000  World       3010  Population - Est. & Proj.           511   \n",
       "137135       5000  World       3010  Population - Est. & Proj.           511   \n",
       "...           ...    ...        ...                        ...           ...   \n",
       "137277       5000  World       3010  Population - Est. & Proj.           511   \n",
       "137278       5000  World       3010  Population - Est. & Proj.           511   \n",
       "137279       5000  World       3010  Population - Est. & Proj.           511   \n",
       "137280       5000  World       3010  Population - Est. & Proj.           511   \n",
       "137281       5000  World       3010  Population - Est. & Proj.           511   \n",
       "\n",
       "                              Element  Year Code  Year          Unit  \\\n",
       "137131  Total Population - Both sexes       1950  1950  1000 persons   \n",
       "137132  Total Population - Both sexes       1951  1951  1000 persons   \n",
       "137133  Total Population - Both sexes       1952  1952  1000 persons   \n",
       "137134  Total Population - Both sexes       1953  1953  1000 persons   \n",
       "137135  Total Population - Both sexes       1954  1954  1000 persons   \n",
       "...                               ...        ...   ...           ...   \n",
       "137277  Total Population - Both sexes       2096  2096  1000 persons   \n",
       "137278  Total Population - Both sexes       2097  2097  1000 persons   \n",
       "137279  Total Population - Both sexes       2098  2098  1000 persons   \n",
       "137280  Total Population - Both sexes       2099  2099  1000 persons   \n",
       "137281  Total Population - Both sexes       2100  2100  1000 persons   \n",
       "\n",
       "             Value Flag  \n",
       "137131   2536270.0   XU  \n",
       "137132   2583820.0   XU  \n",
       "137133   2630580.0   XU  \n",
       "137134   2677230.0   XU  \n",
       "137135   2724300.0   XU  \n",
       "...            ...  ...  \n",
       "137277  11139200.0   XU  \n",
       "137278  11151600.0   XU  \n",
       "137279  11163300.0   XU  \n",
       "137280  11174200.0   XU  \n",
       "137281  11184400.0   XU  \n",
       "\n",
       "[151 rows x 11 columns]"
      ]
     },
     "execution_count": 18,
     "metadata": {},
     "output_type": "execute_result"
    }
   ],
   "source": [
    "world_population"
   ]
  },
  {
   "cell_type": "code",
   "execution_count": 19,
   "metadata": {},
   "outputs": [
    {
     "data": {
      "image/png": "[encoded data removed]",
      "text/plain": [
       "<Figure size 432x288 with 1 Axes>"
      ]
     },
     "metadata": {
      "needs_background": "light"
     },
     "output_type": "display_data"
    }
   ],
   "source": [
    "plt.plot(world_population[world_population.Year<2020].Year.values, \n",
    "         world_population[world_population.Year<2020].Value.values)\n",
    "plt.show()"
   ]
  },
  {
   "cell_type": "code",
   "execution_count": 20,
   "metadata": {},
   "outputs": [],
   "source": [
    "production_df = pd.read_csv('Data/fao_data_production_indices_data.csv')"
   ]
  },
  {
   "cell_type": "code",
   "execution_count": 21,
   "metadata": {},
   "outputs": [
    {
     "data": {
      "text/html": [
       "<div>\n",
       "<style scoped>\n",
       "    .dataframe tbody tr th:only-of-type {\n",
       "        vertical-align: middle;\n",
       "    }\n",
       "\n",
       "    .dataframe tbody tr th {\n",
       "        vertical-align: top;\n",
       "    }\n",
       "\n",
       "    .dataframe thead th {\n",
       "        text-align: right;\n",
       "    }\n",
       "</style>\n",
       "<table border=\"1\" class=\"dataframe\">\n",
       "  <thead>\n",
       "    <tr style=\"text-align: right;\">\n",
       "      <th></th>\n",
       "      <th>country_or_area</th>\n",
       "      <th>element_code</th>\n",
       "      <th>element</th>\n",
       "      <th>year</th>\n",
       "      <th>unit</th>\n",
       "      <th>value</th>\n",
       "      <th>value_footnotes</th>\n",
       "      <th>category</th>\n",
       "    </tr>\n",
       "  </thead>\n",
       "  <tbody>\n",
       "    <tr>\n",
       "      <td>0</td>\n",
       "      <td>Afghanistan</td>\n",
       "      <td>152</td>\n",
       "      <td>Gross Production 1999-2001 (1000 I$)</td>\n",
       "      <td>2007.0</td>\n",
       "      <td>1000 Int. $</td>\n",
       "      <td>2486910.0</td>\n",
       "      <td>A</td>\n",
       "      <td>agriculture_pin</td>\n",
       "    </tr>\n",
       "    <tr>\n",
       "      <td>1</td>\n",
       "      <td>Afghanistan</td>\n",
       "      <td>152</td>\n",
       "      <td>Gross Production 1999-2001 (1000 I$)</td>\n",
       "      <td>2006.0</td>\n",
       "      <td>1000 Int. $</td>\n",
       "      <td>2278516.0</td>\n",
       "      <td>A</td>\n",
       "      <td>agriculture_pin</td>\n",
       "    </tr>\n",
       "    <tr>\n",
       "      <td>2</td>\n",
       "      <td>Afghanistan</td>\n",
       "      <td>152</td>\n",
       "      <td>Gross Production 1999-2001 (1000 I$)</td>\n",
       "      <td>2005.0</td>\n",
       "      <td>1000 Int. $</td>\n",
       "      <td>2524097.0</td>\n",
       "      <td>A</td>\n",
       "      <td>agriculture_pin</td>\n",
       "    </tr>\n",
       "    <tr>\n",
       "      <td>3</td>\n",
       "      <td>Afghanistan</td>\n",
       "      <td>152</td>\n",
       "      <td>Gross Production 1999-2001 (1000 I$)</td>\n",
       "      <td>2004.0</td>\n",
       "      <td>1000 Int. $</td>\n",
       "      <td>2226346.0</td>\n",
       "      <td>A</td>\n",
       "      <td>agriculture_pin</td>\n",
       "    </tr>\n",
       "    <tr>\n",
       "      <td>4</td>\n",
       "      <td>Afghanistan</td>\n",
       "      <td>152</td>\n",
       "      <td>Gross Production 1999-2001 (1000 I$)</td>\n",
       "      <td>2003.0</td>\n",
       "      <td>1000 Int. $</td>\n",
       "      <td>2289434.0</td>\n",
       "      <td>A</td>\n",
       "      <td>agriculture_pin</td>\n",
       "    </tr>\n",
       "  </tbody>\n",
       "</table>\n",
       "</div>"
      ],
      "text/plain": [
       "  country_or_area element_code                               element    year  \\\n",
       "0     Afghanistan          152  Gross Production 1999-2001 (1000 I$)  2007.0   \n",
       "1     Afghanistan          152  Gross Production 1999-2001 (1000 I$)  2006.0   \n",
       "2     Afghanistan          152  Gross Production 1999-2001 (1000 I$)  2005.0   \n",
       "3     Afghanistan          152  Gross Production 1999-2001 (1000 I$)  2004.0   \n",
       "4     Afghanistan          152  Gross Production 1999-2001 (1000 I$)  2003.0   \n",
       "\n",
       "          unit      value value_footnotes         category  \n",
       "0  1000 Int. $  2486910.0              A   agriculture_pin  \n",
       "1  1000 Int. $  2278516.0              A   agriculture_pin  \n",
       "2  1000 Int. $  2524097.0              A   agriculture_pin  \n",
       "3  1000 Int. $  2226346.0              A   agriculture_pin  \n",
       "4  1000 Int. $  2289434.0              A   agriculture_pin  "
      ]
     },
     "execution_count": 21,
     "metadata": {},
     "output_type": "execute_result"
    }
   ],
   "source": [
    "production_df.head()"
   ]
  },
  {
   "cell_type": "code",
   "execution_count": 22,
   "metadata": {},
   "outputs": [
    {
     "data": {
      "text/plain": [
       "0         agriculture_pin\n",
       "64098           crops_pin\n",
       "127100           food_pin\n",
       "191198      livestock_pin\n",
       "254912       non_food_pin\n",
       "Name: category, dtype: object"
      ]
     },
     "execution_count": 22,
     "metadata": {},
     "output_type": "execute_result"
    }
   ],
   "source": [
    "production_df.category.drop_duplicates()"
   ]
  },
  {
   "cell_type": "code",
   "execution_count": 23,
   "metadata": {},
   "outputs": [
    {
     "data": {
      "text/plain": [
       "0        Gross Production 1999-2001 (1000 I$)\n",
       "47         Net Production 1999-2001 (1000 I$)\n",
       "94                 Gross PIN (base 1999-2001)\n",
       "141       Grs per capita PIN (base 1999-2001)\n",
       "188                  Net PIN (base 1999-2001)\n",
       "235       Net per capita PIN (base 1999-2001)\n",
       "64096                                     NaN\n",
       "Name: element, dtype: object"
      ]
     },
     "execution_count": 23,
     "metadata": {},
     "output_type": "execute_result"
    }
   ],
   "source": [
    "production_df.element.drop_duplicates()"
   ]
  },
  {
   "cell_type": "code",
   "execution_count": 24,
   "metadata": {},
   "outputs": [
    {
     "data": {
      "text/html": [
       "<div>\n",
       "<style scoped>\n",
       "    .dataframe tbody tr th:only-of-type {\n",
       "        vertical-align: middle;\n",
       "    }\n",
       "\n",
       "    .dataframe tbody tr th {\n",
       "        vertical-align: top;\n",
       "    }\n",
       "\n",
       "    .dataframe thead th {\n",
       "        text-align: right;\n",
       "    }\n",
       "</style>\n",
       "<table border=\"1\" class=\"dataframe\">\n",
       "  <thead>\n",
       "    <tr style=\"text-align: right;\">\n",
       "      <th></th>\n",
       "      <th>country_or_area</th>\n",
       "      <th>element_code</th>\n",
       "      <th>element</th>\n",
       "      <th>year</th>\n",
       "      <th>unit</th>\n",
       "      <th>value</th>\n",
       "      <th>value_footnotes</th>\n",
       "      <th>category</th>\n",
       "    </tr>\n",
       "  </thead>\n",
       "  <tbody>\n",
       "    <tr>\n",
       "      <td>253955</td>\n",
       "      <td>World +</td>\n",
       "      <td>438</td>\n",
       "      <td>Net per capita PIN (base 1999-2001)</td>\n",
       "      <td>2007.0</td>\n",
       "      <td>Int. $</td>\n",
       "      <td>103.0</td>\n",
       "      <td>A</td>\n",
       "      <td>livestock_pin</td>\n",
       "    </tr>\n",
       "    <tr>\n",
       "      <td>253956</td>\n",
       "      <td>World +</td>\n",
       "      <td>438</td>\n",
       "      <td>Net per capita PIN (base 1999-2001)</td>\n",
       "      <td>2006.0</td>\n",
       "      <td>Int. $</td>\n",
       "      <td>103.0</td>\n",
       "      <td>A</td>\n",
       "      <td>livestock_pin</td>\n",
       "    </tr>\n",
       "    <tr>\n",
       "      <td>253957</td>\n",
       "      <td>World +</td>\n",
       "      <td>438</td>\n",
       "      <td>Net per capita PIN (base 1999-2001)</td>\n",
       "      <td>2005.0</td>\n",
       "      <td>Int. $</td>\n",
       "      <td>104.0</td>\n",
       "      <td>A</td>\n",
       "      <td>livestock_pin</td>\n",
       "    </tr>\n",
       "    <tr>\n",
       "      <td>253958</td>\n",
       "      <td>World +</td>\n",
       "      <td>438</td>\n",
       "      <td>Net per capita PIN (base 1999-2001)</td>\n",
       "      <td>2004.0</td>\n",
       "      <td>Int. $</td>\n",
       "      <td>103.0</td>\n",
       "      <td>A</td>\n",
       "      <td>livestock_pin</td>\n",
       "    </tr>\n",
       "    <tr>\n",
       "      <td>253959</td>\n",
       "      <td>World +</td>\n",
       "      <td>438</td>\n",
       "      <td>Net per capita PIN (base 1999-2001)</td>\n",
       "      <td>2003.0</td>\n",
       "      <td>Int. $</td>\n",
       "      <td>101.0</td>\n",
       "      <td>A</td>\n",
       "      <td>livestock_pin</td>\n",
       "    </tr>\n",
       "    <tr>\n",
       "      <td>253960</td>\n",
       "      <td>World +</td>\n",
       "      <td>438</td>\n",
       "      <td>Net per capita PIN (base 1999-2001)</td>\n",
       "      <td>2002.0</td>\n",
       "      <td>Int. $</td>\n",
       "      <td>101.0</td>\n",
       "      <td>A</td>\n",
       "      <td>livestock_pin</td>\n",
       "    </tr>\n",
       "    <tr>\n",
       "      <td>253961</td>\n",
       "      <td>World +</td>\n",
       "      <td>438</td>\n",
       "      <td>Net per capita PIN (base 1999-2001)</td>\n",
       "      <td>2001.0</td>\n",
       "      <td>Int. $</td>\n",
       "      <td>100.0</td>\n",
       "      <td>A</td>\n",
       "      <td>livestock_pin</td>\n",
       "    </tr>\n",
       "    <tr>\n",
       "      <td>253962</td>\n",
       "      <td>World +</td>\n",
       "      <td>438</td>\n",
       "      <td>Net per capita PIN (base 1999-2001)</td>\n",
       "      <td>2000.0</td>\n",
       "      <td>Int. $</td>\n",
       "      <td>100.0</td>\n",
       "      <td>A</td>\n",
       "      <td>livestock_pin</td>\n",
       "    </tr>\n",
       "    <tr>\n",
       "      <td>253963</td>\n",
       "      <td>World +</td>\n",
       "      <td>438</td>\n",
       "      <td>Net per capita PIN (base 1999-2001)</td>\n",
       "      <td>1999.0</td>\n",
       "      <td>Int. $</td>\n",
       "      <td>99.0</td>\n",
       "      <td>A</td>\n",
       "      <td>livestock_pin</td>\n",
       "    </tr>\n",
       "    <tr>\n",
       "      <td>253964</td>\n",
       "      <td>World +</td>\n",
       "      <td>438</td>\n",
       "      <td>Net per capita PIN (base 1999-2001)</td>\n",
       "      <td>1998.0</td>\n",
       "      <td>Int. $</td>\n",
       "      <td>98.0</td>\n",
       "      <td>A</td>\n",
       "      <td>livestock_pin</td>\n",
       "    </tr>\n",
       "    <tr>\n",
       "      <td>253965</td>\n",
       "      <td>World +</td>\n",
       "      <td>438</td>\n",
       "      <td>Net per capita PIN (base 1999-2001)</td>\n",
       "      <td>1997.0</td>\n",
       "      <td>Int. $</td>\n",
       "      <td>97.0</td>\n",
       "      <td>A</td>\n",
       "      <td>livestock_pin</td>\n",
       "    </tr>\n",
       "    <tr>\n",
       "      <td>253966</td>\n",
       "      <td>World +</td>\n",
       "      <td>438</td>\n",
       "      <td>Net per capita PIN (base 1999-2001)</td>\n",
       "      <td>1996.0</td>\n",
       "      <td>Int. $</td>\n",
       "      <td>97.0</td>\n",
       "      <td>A</td>\n",
       "      <td>livestock_pin</td>\n",
       "    </tr>\n",
       "    <tr>\n",
       "      <td>253967</td>\n",
       "      <td>World +</td>\n",
       "      <td>438</td>\n",
       "      <td>Net per capita PIN (base 1999-2001)</td>\n",
       "      <td>1995.0</td>\n",
       "      <td>Int. $</td>\n",
       "      <td>97.0</td>\n",
       "      <td>A</td>\n",
       "      <td>livestock_pin</td>\n",
       "    </tr>\n",
       "    <tr>\n",
       "      <td>253968</td>\n",
       "      <td>World +</td>\n",
       "      <td>438</td>\n",
       "      <td>Net per capita PIN (base 1999-2001)</td>\n",
       "      <td>1994.0</td>\n",
       "      <td>Int. $</td>\n",
       "      <td>95.0</td>\n",
       "      <td>A</td>\n",
       "      <td>livestock_pin</td>\n",
       "    </tr>\n",
       "    <tr>\n",
       "      <td>253969</td>\n",
       "      <td>World +</td>\n",
       "      <td>438</td>\n",
       "      <td>Net per capita PIN (base 1999-2001)</td>\n",
       "      <td>1993.0</td>\n",
       "      <td>Int. $</td>\n",
       "      <td>94.0</td>\n",
       "      <td>A</td>\n",
       "      <td>livestock_pin</td>\n",
       "    </tr>\n",
       "    <tr>\n",
       "      <td>253970</td>\n",
       "      <td>World +</td>\n",
       "      <td>438</td>\n",
       "      <td>Net per capita PIN (base 1999-2001)</td>\n",
       "      <td>1992.0</td>\n",
       "      <td>Int. $</td>\n",
       "      <td>94.0</td>\n",
       "      <td>A</td>\n",
       "      <td>livestock_pin</td>\n",
       "    </tr>\n",
       "    <tr>\n",
       "      <td>253971</td>\n",
       "      <td>World +</td>\n",
       "      <td>438</td>\n",
       "      <td>Net per capita PIN (base 1999-2001)</td>\n",
       "      <td>1991.0</td>\n",
       "      <td>Int. $</td>\n",
       "      <td>95.0</td>\n",
       "      <td>A</td>\n",
       "      <td>livestock_pin</td>\n",
       "    </tr>\n",
       "    <tr>\n",
       "      <td>253972</td>\n",
       "      <td>World +</td>\n",
       "      <td>438</td>\n",
       "      <td>Net per capita PIN (base 1999-2001)</td>\n",
       "      <td>1990.0</td>\n",
       "      <td>Int. $</td>\n",
       "      <td>96.0</td>\n",
       "      <td>A</td>\n",
       "      <td>livestock_pin</td>\n",
       "    </tr>\n",
       "    <tr>\n",
       "      <td>253973</td>\n",
       "      <td>World +</td>\n",
       "      <td>438</td>\n",
       "      <td>Net per capita PIN (base 1999-2001)</td>\n",
       "      <td>1989.0</td>\n",
       "      <td>Int. $</td>\n",
       "      <td>95.0</td>\n",
       "      <td>A</td>\n",
       "      <td>livestock_pin</td>\n",
       "    </tr>\n",
       "    <tr>\n",
       "      <td>253974</td>\n",
       "      <td>World +</td>\n",
       "      <td>438</td>\n",
       "      <td>Net per capita PIN (base 1999-2001)</td>\n",
       "      <td>1988.0</td>\n",
       "      <td>Int. $</td>\n",
       "      <td>95.0</td>\n",
       "      <td>A</td>\n",
       "      <td>livestock_pin</td>\n",
       "    </tr>\n",
       "    <tr>\n",
       "      <td>253975</td>\n",
       "      <td>World +</td>\n",
       "      <td>438</td>\n",
       "      <td>Net per capita PIN (base 1999-2001)</td>\n",
       "      <td>1987.0</td>\n",
       "      <td>Int. $</td>\n",
       "      <td>94.0</td>\n",
       "      <td>A</td>\n",
       "      <td>livestock_pin</td>\n",
       "    </tr>\n",
       "    <tr>\n",
       "      <td>253976</td>\n",
       "      <td>World +</td>\n",
       "      <td>438</td>\n",
       "      <td>Net per capita PIN (base 1999-2001)</td>\n",
       "      <td>1986.0</td>\n",
       "      <td>Int. $</td>\n",
       "      <td>94.0</td>\n",
       "      <td>A</td>\n",
       "      <td>livestock_pin</td>\n",
       "    </tr>\n",
       "    <tr>\n",
       "      <td>253977</td>\n",
       "      <td>World +</td>\n",
       "      <td>438</td>\n",
       "      <td>Net per capita PIN (base 1999-2001)</td>\n",
       "      <td>1985.0</td>\n",
       "      <td>Int. $</td>\n",
       "      <td>93.0</td>\n",
       "      <td>A</td>\n",
       "      <td>livestock_pin</td>\n",
       "    </tr>\n",
       "    <tr>\n",
       "      <td>253978</td>\n",
       "      <td>World +</td>\n",
       "      <td>438</td>\n",
       "      <td>Net per capita PIN (base 1999-2001)</td>\n",
       "      <td>1984.0</td>\n",
       "      <td>Int. $</td>\n",
       "      <td>92.0</td>\n",
       "      <td>A</td>\n",
       "      <td>livestock_pin</td>\n",
       "    </tr>\n",
       "    <tr>\n",
       "      <td>253979</td>\n",
       "      <td>World +</td>\n",
       "      <td>438</td>\n",
       "      <td>Net per capita PIN (base 1999-2001)</td>\n",
       "      <td>1983.0</td>\n",
       "      <td>Int. $</td>\n",
       "      <td>91.0</td>\n",
       "      <td>A</td>\n",
       "      <td>livestock_pin</td>\n",
       "    </tr>\n",
       "    <tr>\n",
       "      <td>253980</td>\n",
       "      <td>World +</td>\n",
       "      <td>438</td>\n",
       "      <td>Net per capita PIN (base 1999-2001)</td>\n",
       "      <td>1982.0</td>\n",
       "      <td>Int. $</td>\n",
       "      <td>90.0</td>\n",
       "      <td>A</td>\n",
       "      <td>livestock_pin</td>\n",
       "    </tr>\n",
       "    <tr>\n",
       "      <td>253981</td>\n",
       "      <td>World +</td>\n",
       "      <td>438</td>\n",
       "      <td>Net per capita PIN (base 1999-2001)</td>\n",
       "      <td>1981.0</td>\n",
       "      <td>Int. $</td>\n",
       "      <td>90.0</td>\n",
       "      <td>A</td>\n",
       "      <td>livestock_pin</td>\n",
       "    </tr>\n",
       "    <tr>\n",
       "      <td>253982</td>\n",
       "      <td>World +</td>\n",
       "      <td>438</td>\n",
       "      <td>Net per capita PIN (base 1999-2001)</td>\n",
       "      <td>1980.0</td>\n",
       "      <td>Int. $</td>\n",
       "      <td>91.0</td>\n",
       "      <td>A</td>\n",
       "      <td>livestock_pin</td>\n",
       "    </tr>\n",
       "    <tr>\n",
       "      <td>253983</td>\n",
       "      <td>World +</td>\n",
       "      <td>438</td>\n",
       "      <td>Net per capita PIN (base 1999-2001)</td>\n",
       "      <td>1979.0</td>\n",
       "      <td>Int. $</td>\n",
       "      <td>90.0</td>\n",
       "      <td>A</td>\n",
       "      <td>livestock_pin</td>\n",
       "    </tr>\n",
       "    <tr>\n",
       "      <td>253984</td>\n",
       "      <td>World +</td>\n",
       "      <td>438</td>\n",
       "      <td>Net per capita PIN (base 1999-2001)</td>\n",
       "      <td>1978.0</td>\n",
       "      <td>Int. $</td>\n",
       "      <td>90.0</td>\n",
       "      <td>A</td>\n",
       "      <td>livestock_pin</td>\n",
       "    </tr>\n",
       "    <tr>\n",
       "      <td>253985</td>\n",
       "      <td>World +</td>\n",
       "      <td>438</td>\n",
       "      <td>Net per capita PIN (base 1999-2001)</td>\n",
       "      <td>1977.0</td>\n",
       "      <td>Int. $</td>\n",
       "      <td>89.0</td>\n",
       "      <td>A</td>\n",
       "      <td>livestock_pin</td>\n",
       "    </tr>\n",
       "    <tr>\n",
       "      <td>253986</td>\n",
       "      <td>World +</td>\n",
       "      <td>438</td>\n",
       "      <td>Net per capita PIN (base 1999-2001)</td>\n",
       "      <td>1976.0</td>\n",
       "      <td>Int. $</td>\n",
       "      <td>89.0</td>\n",
       "      <td>A</td>\n",
       "      <td>livestock_pin</td>\n",
       "    </tr>\n",
       "    <tr>\n",
       "      <td>253987</td>\n",
       "      <td>World +</td>\n",
       "      <td>438</td>\n",
       "      <td>Net per capita PIN (base 1999-2001)</td>\n",
       "      <td>1975.0</td>\n",
       "      <td>Int. $</td>\n",
       "      <td>88.0</td>\n",
       "      <td>A</td>\n",
       "      <td>livestock_pin</td>\n",
       "    </tr>\n",
       "    <tr>\n",
       "      <td>253988</td>\n",
       "      <td>World +</td>\n",
       "      <td>438</td>\n",
       "      <td>Net per capita PIN (base 1999-2001)</td>\n",
       "      <td>1974.0</td>\n",
       "      <td>Int. $</td>\n",
       "      <td>87.0</td>\n",
       "      <td>A</td>\n",
       "      <td>livestock_pin</td>\n",
       "    </tr>\n",
       "    <tr>\n",
       "      <td>253989</td>\n",
       "      <td>World +</td>\n",
       "      <td>438</td>\n",
       "      <td>Net per capita PIN (base 1999-2001)</td>\n",
       "      <td>1973.0</td>\n",
       "      <td>Int. $</td>\n",
       "      <td>85.0</td>\n",
       "      <td>A</td>\n",
       "      <td>livestock_pin</td>\n",
       "    </tr>\n",
       "    <tr>\n",
       "      <td>253990</td>\n",
       "      <td>World +</td>\n",
       "      <td>438</td>\n",
       "      <td>Net per capita PIN (base 1999-2001)</td>\n",
       "      <td>1972.0</td>\n",
       "      <td>Int. $</td>\n",
       "      <td>87.0</td>\n",
       "      <td>A</td>\n",
       "      <td>livestock_pin</td>\n",
       "    </tr>\n",
       "    <tr>\n",
       "      <td>253991</td>\n",
       "      <td>World +</td>\n",
       "      <td>438</td>\n",
       "      <td>Net per capita PIN (base 1999-2001)</td>\n",
       "      <td>1971.0</td>\n",
       "      <td>Int. $</td>\n",
       "      <td>86.0</td>\n",
       "      <td>A</td>\n",
       "      <td>livestock_pin</td>\n",
       "    </tr>\n",
       "    <tr>\n",
       "      <td>253992</td>\n",
       "      <td>World +</td>\n",
       "      <td>438</td>\n",
       "      <td>Net per capita PIN (base 1999-2001)</td>\n",
       "      <td>1970.0</td>\n",
       "      <td>Int. $</td>\n",
       "      <td>86.0</td>\n",
       "      <td>A</td>\n",
       "      <td>livestock_pin</td>\n",
       "    </tr>\n",
       "    <tr>\n",
       "      <td>253993</td>\n",
       "      <td>World +</td>\n",
       "      <td>438</td>\n",
       "      <td>Net per capita PIN (base 1999-2001)</td>\n",
       "      <td>1969.0</td>\n",
       "      <td>Int. $</td>\n",
       "      <td>86.0</td>\n",
       "      <td>A</td>\n",
       "      <td>livestock_pin</td>\n",
       "    </tr>\n",
       "    <tr>\n",
       "      <td>253994</td>\n",
       "      <td>World +</td>\n",
       "      <td>438</td>\n",
       "      <td>Net per capita PIN (base 1999-2001)</td>\n",
       "      <td>1968.0</td>\n",
       "      <td>Int. $</td>\n",
       "      <td>87.0</td>\n",
       "      <td>A</td>\n",
       "      <td>livestock_pin</td>\n",
       "    </tr>\n",
       "    <tr>\n",
       "      <td>253995</td>\n",
       "      <td>World +</td>\n",
       "      <td>438</td>\n",
       "      <td>Net per capita PIN (base 1999-2001)</td>\n",
       "      <td>1967.0</td>\n",
       "      <td>Int. $</td>\n",
       "      <td>86.0</td>\n",
       "      <td>A</td>\n",
       "      <td>livestock_pin</td>\n",
       "    </tr>\n",
       "    <tr>\n",
       "      <td>253996</td>\n",
       "      <td>World +</td>\n",
       "      <td>438</td>\n",
       "      <td>Net per capita PIN (base 1999-2001)</td>\n",
       "      <td>1966.0</td>\n",
       "      <td>Int. $</td>\n",
       "      <td>84.0</td>\n",
       "      <td>A</td>\n",
       "      <td>livestock_pin</td>\n",
       "    </tr>\n",
       "    <tr>\n",
       "      <td>253997</td>\n",
       "      <td>World +</td>\n",
       "      <td>438</td>\n",
       "      <td>Net per capita PIN (base 1999-2001)</td>\n",
       "      <td>1965.0</td>\n",
       "      <td>Int. $</td>\n",
       "      <td>83.0</td>\n",
       "      <td>A</td>\n",
       "      <td>livestock_pin</td>\n",
       "    </tr>\n",
       "    <tr>\n",
       "      <td>253998</td>\n",
       "      <td>World +</td>\n",
       "      <td>438</td>\n",
       "      <td>Net per capita PIN (base 1999-2001)</td>\n",
       "      <td>1964.0</td>\n",
       "      <td>Int. $</td>\n",
       "      <td>82.0</td>\n",
       "      <td>A</td>\n",
       "      <td>livestock_pin</td>\n",
       "    </tr>\n",
       "    <tr>\n",
       "      <td>253999</td>\n",
       "      <td>World +</td>\n",
       "      <td>438</td>\n",
       "      <td>Net per capita PIN (base 1999-2001)</td>\n",
       "      <td>1963.0</td>\n",
       "      <td>Int. $</td>\n",
       "      <td>82.0</td>\n",
       "      <td>A</td>\n",
       "      <td>livestock_pin</td>\n",
       "    </tr>\n",
       "    <tr>\n",
       "      <td>254000</td>\n",
       "      <td>World +</td>\n",
       "      <td>438</td>\n",
       "      <td>Net per capita PIN (base 1999-2001)</td>\n",
       "      <td>1962.0</td>\n",
       "      <td>Int. $</td>\n",
       "      <td>82.0</td>\n",
       "      <td>A</td>\n",
       "      <td>livestock_pin</td>\n",
       "    </tr>\n",
       "    <tr>\n",
       "      <td>254001</td>\n",
       "      <td>World +</td>\n",
       "      <td>438</td>\n",
       "      <td>Net per capita PIN (base 1999-2001)</td>\n",
       "      <td>1961.0</td>\n",
       "      <td>Int. $</td>\n",
       "      <td>81.0</td>\n",
       "      <td>A</td>\n",
       "      <td>livestock_pin</td>\n",
       "    </tr>\n",
       "  </tbody>\n",
       "</table>\n",
       "</div>"
      ],
      "text/plain": [
       "       country_or_area element_code                              element  \\\n",
       "253955         World +          438  Net per capita PIN (base 1999-2001)   \n",
       "253956         World +          438  Net per capita PIN (base 1999-2001)   \n",
       "253957         World +          438  Net per capita PIN (base 1999-2001)   \n",
       "253958         World +          438  Net per capita PIN (base 1999-2001)   \n",
       "253959         World +          438  Net per capita PIN (base 1999-2001)   \n",
       "253960         World +          438  Net per capita PIN (base 1999-2001)   \n",
       "253961         World +          438  Net per capita PIN (base 1999-2001)   \n",
       "253962         World +          438  Net per capita PIN (base 1999-2001)   \n",
       "253963         World +          438  Net per capita PIN (base 1999-2001)   \n",
       "253964         World +          438  Net per capita PIN (base 1999-2001)   \n",
       "253965         World +          438  Net per capita PIN (base 1999-2001)   \n",
       "253966         World +          438  Net per capita PIN (base 1999-2001)   \n",
       "253967         World +          438  Net per capita PIN (base 1999-2001)   \n",
       "253968         World +          438  Net per capita PIN (base 1999-2001)   \n",
       "253969         World +          438  Net per capita PIN (base 1999-2001)   \n",
       "253970         World +          438  Net per capita PIN (base 1999-2001)   \n",
       "253971         World +          438  Net per capita PIN (base 1999-2001)   \n",
       "253972         World +          438  Net per capita PIN (base 1999-2001)   \n",
       "253973         World +          438  Net per capita PIN (base 1999-2001)   \n",
       "253974         World +          438  Net per capita PIN (base 1999-2001)   \n",
       "253975         World +          438  Net per capita PIN (base 1999-2001)   \n",
       "253976         World +          438  Net per capita PIN (base 1999-2001)   \n",
       "253977         World +          438  Net per capita PIN (base 1999-2001)   \n",
       "253978         World +          438  Net per capita PIN (base 1999-2001)   \n",
       "253979         World +          438  Net per capita PIN (base 1999-2001)   \n",
       "253980         World +          438  Net per capita PIN (base 1999-2001)   \n",
       "253981         World +          438  Net per capita PIN (base 1999-2001)   \n",
       "253982         World +          438  Net per capita PIN (base 1999-2001)   \n",
       "253983         World +          438  Net per capita PIN (base 1999-2001)   \n",
       "253984         World +          438  Net per capita PIN (base 1999-2001)   \n",
       "253985         World +          438  Net per capita PIN (base 1999-2001)   \n",
       "253986         World +          438  Net per capita PIN (base 1999-2001)   \n",
       "253987         World +          438  Net per capita PIN (base 1999-2001)   \n",
       "253988         World +          438  Net per capita PIN (base 1999-2001)   \n",
       "253989         World +          438  Net per capita PIN (base 1999-2001)   \n",
       "253990         World +          438  Net per capita PIN (base 1999-2001)   \n",
       "253991         World +          438  Net per capita PIN (base 1999-2001)   \n",
       "253992         World +          438  Net per capita PIN (base 1999-2001)   \n",
       "253993         World +          438  Net per capita PIN (base 1999-2001)   \n",
       "253994         World +          438  Net per capita PIN (base 1999-2001)   \n",
       "253995         World +          438  Net per capita PIN (base 1999-2001)   \n",
       "253996         World +          438  Net per capita PIN (base 1999-2001)   \n",
       "253997         World +          438  Net per capita PIN (base 1999-2001)   \n",
       "253998         World +          438  Net per capita PIN (base 1999-2001)   \n",
       "253999         World +          438  Net per capita PIN (base 1999-2001)   \n",
       "254000         World +          438  Net per capita PIN (base 1999-2001)   \n",
       "254001         World +          438  Net per capita PIN (base 1999-2001)   \n",
       "\n",
       "          year    unit  value value_footnotes       category  \n",
       "253955  2007.0  Int. $  103.0              A   livestock_pin  \n",
       "253956  2006.0  Int. $  103.0              A   livestock_pin  \n",
       "253957  2005.0  Int. $  104.0              A   livestock_pin  \n",
       "253958  2004.0  Int. $  103.0              A   livestock_pin  \n",
       "253959  2003.0  Int. $  101.0              A   livestock_pin  \n",
       "253960  2002.0  Int. $  101.0              A   livestock_pin  \n",
       "253961  2001.0  Int. $  100.0              A   livestock_pin  \n",
       "253962  2000.0  Int. $  100.0              A   livestock_pin  \n",
       "253963  1999.0  Int. $   99.0              A   livestock_pin  \n",
       "253964  1998.0  Int. $   98.0              A   livestock_pin  \n",
       "253965  1997.0  Int. $   97.0              A   livestock_pin  \n",
       "253966  1996.0  Int. $   97.0              A   livestock_pin  \n",
       "253967  1995.0  Int. $   97.0              A   livestock_pin  \n",
       "253968  1994.0  Int. $   95.0              A   livestock_pin  \n",
       "253969  1993.0  Int. $   94.0              A   livestock_pin  \n",
       "253970  1992.0  Int. $   94.0              A   livestock_pin  \n",
       "253971  1991.0  Int. $   95.0              A   livestock_pin  \n",
       "253972  1990.0  Int. $   96.0              A   livestock_pin  \n",
       "253973  1989.0  Int. $   95.0              A   livestock_pin  \n",
       "253974  1988.0  Int. $   95.0              A   livestock_pin  \n",
       "253975  1987.0  Int. $   94.0              A   livestock_pin  \n",
       "253976  1986.0  Int. $   94.0              A   livestock_pin  \n",
       "253977  1985.0  Int. $   93.0              A   livestock_pin  \n",
       "253978  1984.0  Int. $   92.0              A   livestock_pin  \n",
       "253979  1983.0  Int. $   91.0              A   livestock_pin  \n",
       "253980  1982.0  Int. $   90.0              A   livestock_pin  \n",
       "253981  1981.0  Int. $   90.0              A   livestock_pin  \n",
       "253982  1980.0  Int. $   91.0              A   livestock_pin  \n",
       "253983  1979.0  Int. $   90.0              A   livestock_pin  \n",
       "253984  1978.0  Int. $   90.0              A   livestock_pin  \n",
       "253985  1977.0  Int. $   89.0              A   livestock_pin  \n",
       "253986  1976.0  Int. $   89.0              A   livestock_pin  \n",
       "253987  1975.0  Int. $   88.0              A   livestock_pin  \n",
       "253988  1974.0  Int. $   87.0              A   livestock_pin  \n",
       "253989  1973.0  Int. $   85.0              A   livestock_pin  \n",
       "253990  1972.0  Int. $   87.0              A   livestock_pin  \n",
       "253991  1971.0  Int. $   86.0              A   livestock_pin  \n",
       "253992  1970.0  Int. $   86.0              A   livestock_pin  \n",
       "253993  1969.0  Int. $   86.0              A   livestock_pin  \n",
       "253994  1968.0  Int. $   87.0              A   livestock_pin  \n",
       "253995  1967.0  Int. $   86.0              A   livestock_pin  \n",
       "253996  1966.0  Int. $   84.0              A   livestock_pin  \n",
       "253997  1965.0  Int. $   83.0              A   livestock_pin  \n",
       "253998  1964.0  Int. $   82.0              A   livestock_pin  \n",
       "253999  1963.0  Int. $   82.0              A   livestock_pin  \n",
       "254000  1962.0  Int. $   82.0              A   livestock_pin  \n",
       "254001  1961.0  Int. $   81.0              A   livestock_pin  "
      ]
     },
     "execution_count": 24,
     "metadata": {},
     "output_type": "execute_result"
    }
   ],
   "source": [
    "production_df[(production_df.country_or_area=='World +') \n",
    "              & (production_df.element=='Net per capita PIN (base 1999-2001)')\n",
    "              & (production_df.category=='livestock_pin')]"
   ]
  },
  {
   "cell_type": "code",
   "execution_count": 25,
   "metadata": {},
   "outputs": [],
   "source": [
    "energy_df = pd.read_csv('Data/raw_data/Emissions_Agriculture_Energy_E_All_Data_(Norm).csv', encoding='latin-1')"
   ]
  },
  {
   "cell_type": "code",
   "execution_count": 26,
   "metadata": {},
   "outputs": [
    {
     "data": {
      "text/html": [
       "<div>\n",
       "<style scoped>\n",
       "    .dataframe tbody tr th:only-of-type {\n",
       "        vertical-align: middle;\n",
       "    }\n",
       "\n",
       "    .dataframe tbody tr th {\n",
       "        vertical-align: top;\n",
       "    }\n",
       "\n",
       "    .dataframe thead th {\n",
       "        text-align: right;\n",
       "    }\n",
       "</style>\n",
       "<table border=\"1\" class=\"dataframe\">\n",
       "  <thead>\n",
       "    <tr style=\"text-align: right;\">\n",
       "      <th></th>\n",
       "      <th>Country Code</th>\n",
       "      <th>Country</th>\n",
       "      <th>Item Code</th>\n",
       "      <th>Item</th>\n",
       "      <th>Element Code</th>\n",
       "      <th>Element</th>\n",
       "      <th>Year Code</th>\n",
       "      <th>Year</th>\n",
       "      <th>Unit</th>\n",
       "      <th>Value</th>\n",
       "      <th>Flag</th>\n",
       "    </tr>\n",
       "  </thead>\n",
       "  <tbody>\n",
       "    <tr>\n",
       "      <td>0</td>\n",
       "      <td>351</td>\n",
       "      <td>China</td>\n",
       "      <td>6801</td>\n",
       "      <td>Gas-Diesel oil</td>\n",
       "      <td>72184</td>\n",
       "      <td>Consumption in Agriculture</td>\n",
       "      <td>1986</td>\n",
       "      <td>1986</td>\n",
       "      <td>Terajoule</td>\n",
       "      <td>288659.0</td>\n",
       "      <td>Fc</td>\n",
       "    </tr>\n",
       "    <tr>\n",
       "      <td>1</td>\n",
       "      <td>351</td>\n",
       "      <td>China</td>\n",
       "      <td>6801</td>\n",
       "      <td>Gas-Diesel oil</td>\n",
       "      <td>72184</td>\n",
       "      <td>Consumption in Agriculture</td>\n",
       "      <td>1987</td>\n",
       "      <td>1987</td>\n",
       "      <td>Terajoule</td>\n",
       "      <td>313771.0</td>\n",
       "      <td>Fc</td>\n",
       "    </tr>\n",
       "    <tr>\n",
       "      <td>2</td>\n",
       "      <td>351</td>\n",
       "      <td>China</td>\n",
       "      <td>6801</td>\n",
       "      <td>Gas-Diesel oil</td>\n",
       "      <td>72184</td>\n",
       "      <td>Consumption in Agriculture</td>\n",
       "      <td>1988</td>\n",
       "      <td>1988</td>\n",
       "      <td>Terajoule</td>\n",
       "      <td>329896.0</td>\n",
       "      <td>Fc</td>\n",
       "    </tr>\n",
       "    <tr>\n",
       "      <td>3</td>\n",
       "      <td>351</td>\n",
       "      <td>China</td>\n",
       "      <td>6801</td>\n",
       "      <td>Gas-Diesel oil</td>\n",
       "      <td>72184</td>\n",
       "      <td>Consumption in Agriculture</td>\n",
       "      <td>1989</td>\n",
       "      <td>1989</td>\n",
       "      <td>Terajoule</td>\n",
       "      <td>355094.0</td>\n",
       "      <td>Fc</td>\n",
       "    </tr>\n",
       "    <tr>\n",
       "      <td>4</td>\n",
       "      <td>351</td>\n",
       "      <td>China</td>\n",
       "      <td>6801</td>\n",
       "      <td>Gas-Diesel oil</td>\n",
       "      <td>72184</td>\n",
       "      <td>Consumption in Agriculture</td>\n",
       "      <td>1990</td>\n",
       "      <td>1990</td>\n",
       "      <td>Terajoule</td>\n",
       "      <td>379045.0</td>\n",
       "      <td>Fc</td>\n",
       "    </tr>\n",
       "  </tbody>\n",
       "</table>\n",
       "</div>"
      ],
      "text/plain": [
       "   Country Code Country  Item Code            Item  Element Code  \\\n",
       "0           351   China       6801  Gas-Diesel oil         72184   \n",
       "1           351   China       6801  Gas-Diesel oil         72184   \n",
       "2           351   China       6801  Gas-Diesel oil         72184   \n",
       "3           351   China       6801  Gas-Diesel oil         72184   \n",
       "4           351   China       6801  Gas-Diesel oil         72184   \n",
       "\n",
       "                      Element  Year Code  Year       Unit     Value Flag  \n",
       "0  Consumption in Agriculture       1986  1986  Terajoule  288659.0   Fc  \n",
       "1  Consumption in Agriculture       1987  1987  Terajoule  313771.0   Fc  \n",
       "2  Consumption in Agriculture       1988  1988  Terajoule  329896.0   Fc  \n",
       "3  Consumption in Agriculture       1989  1989  Terajoule  355094.0   Fc  \n",
       "4  Consumption in Agriculture       1990  1990  Terajoule  379045.0   Fc  "
      ]
     },
     "execution_count": 26,
     "metadata": {},
     "output_type": "execute_result"
    }
   ],
   "source": [
    "energy_df.head()"
   ]
  },
  {
   "cell_type": "code",
   "execution_count": 27,
   "metadata": {},
   "outputs": [
    {
     "data": {
      "text/plain": [
       "0               Consumption in Agriculture\n",
       "27         Implied emission factor for CH4\n",
       "54                Emissions (CH4) (Energy)\n",
       "81     Emissions (CO2eq) from CH4 (Energy)\n",
       "108        Implied emission factor for N2O\n",
       "135               Emissions (N2O) (Energy)\n",
       "162    Emissions (CO2eq) from N2O (Energy)\n",
       "189        Implied emission factor for CO2\n",
       "216               Emissions (CO2) (Energy)\n",
       "243             Emissions (CO2eq) (Energy)\n",
       "Name: Element, dtype: object"
      ]
     },
     "execution_count": 27,
     "metadata": {},
     "output_type": "execute_result"
    }
   ],
   "source": [
    "energy_df.Element.drop_duplicates()"
   ]
  },
  {
   "cell_type": "code",
   "execution_count": 28,
   "metadata": {},
   "outputs": [
    {
     "data": {
      "text/plain": [
       "0                                          Gas-Diesel oil\n",
       "270                                        Motor Gasoline\n",
       "540                           Natural gas (including LNG)\n",
       "740                         Liquefied petroleum gas (LPG)\n",
       "940                                              Fuel oil\n",
       "1210                                                 Coal\n",
       "1480                                          Electricity\n",
       "1867                    Gas-diesel oils used in fisheries\n",
       "2287                           Fuel oil used in fisheries\n",
       "2707                          Energy for power irrigation\n",
       "2955    Transport fuel used in agriculture (excl. fish...\n",
       "3249                                         Total Energy\n",
       "3534                               Energy used in fishery\n",
       "Name: Item, dtype: object"
      ]
     },
     "execution_count": 28,
     "metadata": {},
     "output_type": "execute_result"
    }
   ],
   "source": [
    "energy_df.Item.drop_duplicates()"
   ]
  },
  {
   "cell_type": "code",
   "execution_count": 29,
   "metadata": {},
   "outputs": [],
   "source": [
    "test = energy_df[(energy_df.Item=='Total Energy') \n",
    "                 & (energy_df.Element=='Emissions (CO2) (Energy)')\n",
    "                 & (energy_df.Country=='World')]"
   ]
  },
  {
   "cell_type": "code",
   "execution_count": 30,
   "metadata": {},
   "outputs": [
    {
     "data": {
      "image/png": "[encoded data removed]",
      "text/plain": [
       "<Figure size 432x288 with 1 Axes>"
      ]
     },
     "metadata": {
      "needs_background": "light"
     },
     "output_type": "display_data"
    }
   ],
   "source": [
    "plt.plot(test.Year.values, test.Value.values)\n",
    "plt.show()"
   ]
  },
  {
   "cell_type": "code",
   "execution_count": 32,
   "metadata": {},
   "outputs": [],
   "source": [
    "continents = ['Africa', 'Americas', 'Asia', 'Europe', 'Oceania']"
   ]
  },
  {
   "cell_type": "code",
   "execution_count": 72,
   "metadata": {},
   "outputs": [],
   "source": [
    "continent_emissions = energy_df[(energy_df.Item=='Total Energy') \n",
    "                                & (energy_df.Element=='Emissions (CO2) (Energy)')\n",
    "                                & (energy_df.Country.isin(continents))]"
   ]
  },
  {
   "cell_type": "code",
   "execution_count": 37,
   "metadata": {},
   "outputs": [
    {
     "data": {
      "text/plain": [
       "390182    273761.7492\n",
       "Name: Value, dtype: float64"
      ]
     },
     "execution_count": 37,
     "metadata": {},
     "output_type": "execute_result"
    }
   ],
   "source": [
    "test[test.Year==1984].Value"
   ]
  },
  {
   "cell_type": "code",
   "execution_count": 73,
   "metadata": {},
   "outputs": [
    {
     "data": {
      "text/plain": [
       "273761.7492"
      ]
     },
     "execution_count": 73,
     "metadata": {},
     "output_type": "execute_result"
    }
   ],
   "source": [
    "continent_emissions[continent_emissions.Year==1984].Value.sum()"
   ]
  },
  {
   "cell_type": "code",
   "execution_count": 74,
   "metadata": {},
   "outputs": [
    {
     "data": {
      "text/html": [
       "<div>\n",
       "<style scoped>\n",
       "    .dataframe tbody tr th:only-of-type {\n",
       "        vertical-align: middle;\n",
       "    }\n",
       "\n",
       "    .dataframe tbody tr th {\n",
       "        vertical-align: top;\n",
       "    }\n",
       "\n",
       "    .dataframe thead th {\n",
       "        text-align: right;\n",
       "    }\n",
       "</style>\n",
       "<table border=\"1\" class=\"dataframe\">\n",
       "  <thead>\n",
       "    <tr style=\"text-align: right;\">\n",
       "      <th></th>\n",
       "      <th>Country Code</th>\n",
       "      <th>Country</th>\n",
       "      <th>Item Code</th>\n",
       "      <th>Item</th>\n",
       "      <th>Element Code</th>\n",
       "      <th>Element</th>\n",
       "      <th>Year Code</th>\n",
       "      <th>Year</th>\n",
       "      <th>Unit</th>\n",
       "      <th>Value</th>\n",
       "      <th>Flag</th>\n",
       "    </tr>\n",
       "  </thead>\n",
       "  <tbody>\n",
       "    <tr>\n",
       "      <td>393648</td>\n",
       "      <td>5100</td>\n",
       "      <td>Africa</td>\n",
       "      <td>6813</td>\n",
       "      <td>Total Energy</td>\n",
       "      <td>719410</td>\n",
       "      <td>Emissions (CO2) (Energy)</td>\n",
       "      <td>1970</td>\n",
       "      <td>1970</td>\n",
       "      <td>Gigagrams</td>\n",
       "      <td>341.0324</td>\n",
       "      <td>A</td>\n",
       "    </tr>\n",
       "    <tr>\n",
       "      <td>393649</td>\n",
       "      <td>5100</td>\n",
       "      <td>Africa</td>\n",
       "      <td>6813</td>\n",
       "      <td>Total Energy</td>\n",
       "      <td>719410</td>\n",
       "      <td>Emissions (CO2) (Energy)</td>\n",
       "      <td>1971</td>\n",
       "      <td>1971</td>\n",
       "      <td>Gigagrams</td>\n",
       "      <td>384.7685</td>\n",
       "      <td>A</td>\n",
       "    </tr>\n",
       "    <tr>\n",
       "      <td>393650</td>\n",
       "      <td>5100</td>\n",
       "      <td>Africa</td>\n",
       "      <td>6813</td>\n",
       "      <td>Total Energy</td>\n",
       "      <td>719410</td>\n",
       "      <td>Emissions (CO2) (Energy)</td>\n",
       "      <td>1972</td>\n",
       "      <td>1972</td>\n",
       "      <td>Gigagrams</td>\n",
       "      <td>390.1625</td>\n",
       "      <td>A</td>\n",
       "    </tr>\n",
       "    <tr>\n",
       "      <td>393651</td>\n",
       "      <td>5100</td>\n",
       "      <td>Africa</td>\n",
       "      <td>6813</td>\n",
       "      <td>Total Energy</td>\n",
       "      <td>719410</td>\n",
       "      <td>Emissions (CO2) (Energy)</td>\n",
       "      <td>1973</td>\n",
       "      <td>1973</td>\n",
       "      <td>Gigagrams</td>\n",
       "      <td>551.3866</td>\n",
       "      <td>A</td>\n",
       "    </tr>\n",
       "    <tr>\n",
       "      <td>393652</td>\n",
       "      <td>5100</td>\n",
       "      <td>Africa</td>\n",
       "      <td>6813</td>\n",
       "      <td>Total Energy</td>\n",
       "      <td>719410</td>\n",
       "      <td>Emissions (CO2) (Energy)</td>\n",
       "      <td>1974</td>\n",
       "      <td>1974</td>\n",
       "      <td>Gigagrams</td>\n",
       "      <td>583.8488</td>\n",
       "      <td>A</td>\n",
       "    </tr>\n",
       "  </tbody>\n",
       "</table>\n",
       "</div>"
      ],
      "text/plain": [
       "        Country Code Country  Item Code          Item  Element Code  \\\n",
       "393648          5100  Africa       6813  Total Energy        719410   \n",
       "393649          5100  Africa       6813  Total Energy        719410   \n",
       "393650          5100  Africa       6813  Total Energy        719410   \n",
       "393651          5100  Africa       6813  Total Energy        719410   \n",
       "393652          5100  Africa       6813  Total Energy        719410   \n",
       "\n",
       "                         Element  Year Code  Year       Unit     Value Flag  \n",
       "393648  Emissions (CO2) (Energy)       1970  1970  Gigagrams  341.0324    A  \n",
       "393649  Emissions (CO2) (Energy)       1971  1971  Gigagrams  384.7685    A  \n",
       "393650  Emissions (CO2) (Energy)       1972  1972  Gigagrams  390.1625    A  \n",
       "393651  Emissions (CO2) (Energy)       1973  1973  Gigagrams  551.3866    A  \n",
       "393652  Emissions (CO2) (Energy)       1974  1974  Gigagrams  583.8488    A  "
      ]
     },
     "execution_count": 74,
     "metadata": {},
     "output_type": "execute_result"
    }
   ],
   "source": [
    "continent_emissions.head()"
   ]
  },
  {
   "cell_type": "code",
   "execution_count": 48,
   "metadata": {},
   "outputs": [],
   "source": [
    "ind = list(range(1970, 2013))"
   ]
  },
  {
   "cell_type": "code",
   "execution_count": 75,
   "metadata": {},
   "outputs": [],
   "source": [
    "dataset = [continent_emissions[continent_emissions.Country==CTR].Value.values for CTR in continents]"
   ]
  },
  {
   "cell_type": "code",
   "execution_count": 76,
   "metadata": {},
   "outputs": [
    {
     "data": {
      "image/png": "[encoded data removed]",
      "text/plain": [
       "<Figure size 1008x576 with 1 Axes>"
      ]
     },
     "metadata": {
      "needs_background": "light"
     },
     "output_type": "display_data"
    }
   ],
   "source": [
    "plt.figure(figsize=(14,8))\n",
    "p1 = plt.bar(ind, dataset[0], color='r', label=continents[0])\n",
    "p2 = plt.bar(ind, dataset[1], bottom=dataset[0], color='b', label=continents[1])\n",
    "p3 = plt.bar(ind, dataset[2], bottom=dataset[0]+dataset[1], color='g', label=continents[2])\n",
    "p4 = plt.bar(ind, dataset[3], bottom=dataset[0]+dataset[1]+dataset[2], color='c', label=continents[3])\n",
    "p5 = plt.bar(ind, dataset[4], bottom=dataset[0]+dataset[1]+dataset[2]+dataset[3], color='y', label=continents[4])\n",
    "plt.legend()\n",
    "plt.title('CO2 Emissions over time by Continent')\n",
    "plt.show()"
   ]
  },
  {
   "cell_type": "code",
   "execution_count": 77,
   "metadata": {},
   "outputs": [
    {
     "data": {
      "text/html": [
       "<div>\n",
       "<style scoped>\n",
       "    .dataframe tbody tr th:only-of-type {\n",
       "        vertical-align: middle;\n",
       "    }\n",
       "\n",
       "    .dataframe tbody tr th {\n",
       "        vertical-align: top;\n",
       "    }\n",
       "\n",
       "    .dataframe thead th {\n",
       "        text-align: right;\n",
       "    }\n",
       "</style>\n",
       "<table border=\"1\" class=\"dataframe\">\n",
       "  <thead>\n",
       "    <tr style=\"text-align: right;\">\n",
       "      <th></th>\n",
       "      <th>Country Code</th>\n",
       "      <th>Country</th>\n",
       "      <th>Item Code</th>\n",
       "      <th>Item</th>\n",
       "      <th>Element Code</th>\n",
       "      <th>Element</th>\n",
       "      <th>Year Code</th>\n",
       "      <th>Year</th>\n",
       "      <th>Unit</th>\n",
       "      <th>Value</th>\n",
       "      <th>Flag</th>\n",
       "    </tr>\n",
       "  </thead>\n",
       "  <tbody>\n",
       "    <tr>\n",
       "      <td>0</td>\n",
       "      <td>351</td>\n",
       "      <td>China</td>\n",
       "      <td>6801</td>\n",
       "      <td>Gas-Diesel oil</td>\n",
       "      <td>72184</td>\n",
       "      <td>Consumption in Agriculture</td>\n",
       "      <td>1986</td>\n",
       "      <td>1986</td>\n",
       "      <td>Terajoule</td>\n",
       "      <td>288659.0</td>\n",
       "      <td>Fc</td>\n",
       "    </tr>\n",
       "    <tr>\n",
       "      <td>1</td>\n",
       "      <td>351</td>\n",
       "      <td>China</td>\n",
       "      <td>6801</td>\n",
       "      <td>Gas-Diesel oil</td>\n",
       "      <td>72184</td>\n",
       "      <td>Consumption in Agriculture</td>\n",
       "      <td>1987</td>\n",
       "      <td>1987</td>\n",
       "      <td>Terajoule</td>\n",
       "      <td>313771.0</td>\n",
       "      <td>Fc</td>\n",
       "    </tr>\n",
       "    <tr>\n",
       "      <td>2</td>\n",
       "      <td>351</td>\n",
       "      <td>China</td>\n",
       "      <td>6801</td>\n",
       "      <td>Gas-Diesel oil</td>\n",
       "      <td>72184</td>\n",
       "      <td>Consumption in Agriculture</td>\n",
       "      <td>1988</td>\n",
       "      <td>1988</td>\n",
       "      <td>Terajoule</td>\n",
       "      <td>329896.0</td>\n",
       "      <td>Fc</td>\n",
       "    </tr>\n",
       "    <tr>\n",
       "      <td>3</td>\n",
       "      <td>351</td>\n",
       "      <td>China</td>\n",
       "      <td>6801</td>\n",
       "      <td>Gas-Diesel oil</td>\n",
       "      <td>72184</td>\n",
       "      <td>Consumption in Agriculture</td>\n",
       "      <td>1989</td>\n",
       "      <td>1989</td>\n",
       "      <td>Terajoule</td>\n",
       "      <td>355094.0</td>\n",
       "      <td>Fc</td>\n",
       "    </tr>\n",
       "    <tr>\n",
       "      <td>4</td>\n",
       "      <td>351</td>\n",
       "      <td>China</td>\n",
       "      <td>6801</td>\n",
       "      <td>Gas-Diesel oil</td>\n",
       "      <td>72184</td>\n",
       "      <td>Consumption in Agriculture</td>\n",
       "      <td>1990</td>\n",
       "      <td>1990</td>\n",
       "      <td>Terajoule</td>\n",
       "      <td>379045.0</td>\n",
       "      <td>Fc</td>\n",
       "    </tr>\n",
       "  </tbody>\n",
       "</table>\n",
       "</div>"
      ],
      "text/plain": [
       "   Country Code Country  Item Code            Item  Element Code  \\\n",
       "0           351   China       6801  Gas-Diesel oil         72184   \n",
       "1           351   China       6801  Gas-Diesel oil         72184   \n",
       "2           351   China       6801  Gas-Diesel oil         72184   \n",
       "3           351   China       6801  Gas-Diesel oil         72184   \n",
       "4           351   China       6801  Gas-Diesel oil         72184   \n",
       "\n",
       "                      Element  Year Code  Year       Unit     Value Flag  \n",
       "0  Consumption in Agriculture       1986  1986  Terajoule  288659.0   Fc  \n",
       "1  Consumption in Agriculture       1987  1987  Terajoule  313771.0   Fc  \n",
       "2  Consumption in Agriculture       1988  1988  Terajoule  329896.0   Fc  \n",
       "3  Consumption in Agriculture       1989  1989  Terajoule  355094.0   Fc  \n",
       "4  Consumption in Agriculture       1990  1990  Terajoule  379045.0   Fc  "
      ]
     },
     "execution_count": 77,
     "metadata": {},
     "output_type": "execute_result"
    }
   ],
   "source": [
    "energy_df.head()"
   ]
  },
  {
   "cell_type": "code",
   "execution_count": 80,
   "metadata": {},
   "outputs": [],
   "source": [
    "continents_ag_cons = energy_df[(energy_df.Element=='Consumption in Agriculture') \n",
    "                               & (energy_df.Country.isin(continents))\n",
    "                               & (energy_df.Item=='Total Energy')]"
   ]
  },
  {
   "cell_type": "code",
   "execution_count": 85,
   "metadata": {},
   "outputs": [],
   "source": [
    "dataset2 = [continents_ag_cons[continents_ag_cons.Country==CTR].Value.values for CTR in continents]"
   ]
  },
  {
   "cell_type": "code",
   "execution_count": 86,
   "metadata": {
    "scrolled": false
   },
   "outputs": [
    {
     "data": {
      "image/png": "[encoded data removed]",
      "text/plain": [
       "<Figure size 1008x576 with 1 Axes>"
      ]
     },
     "metadata": {
      "needs_background": "light"
     },
     "output_type": "display_data"
    }
   ],
   "source": [
    "plt.figure(figsize=(14,8))\n",
    "p1 = plt.bar(ind, dataset2[0], color='r', label=continents[0])\n",
    "p2 = plt.bar(ind, dataset2[1], bottom=dataset2[0], color='b', label=continents[1])\n",
    "p3 = plt.bar(ind, dataset2[2], bottom=dataset2[0]+dataset2[1], color='g', label=continents[2])\n",
    "p4 = plt.bar(ind, dataset2[3], bottom=dataset2[0]+dataset2[1]+dataset2[2], color='c', label=continents[3])\n",
    "p5 = plt.bar(ind, dataset2[4], bottom=dataset2[0]+dataset2[1]+dataset2[2]+dataset2[3], color='y', label=continents[4])\n",
    "plt.legend()\n",
    "plt.title('CO2 Emissions over time by Continent')\n",
    "plt.show()"
   ]
  },
  {
   "cell_type": "code",
   "execution_count": 92,
   "metadata": {},
   "outputs": [],
   "source": [
    "livestock_df = pd.read_csv('Data/raw_data/Production_Livestock_E_All_Data_(Normalized).csv', encoding='latin-1')"
   ]
  },
  {
   "cell_type": "code",
   "execution_count": 94,
   "metadata": {},
   "outputs": [
    {
     "data": {
      "text/html": [
       "<div>\n",
       "<style scoped>\n",
       "    .dataframe tbody tr th:only-of-type {\n",
       "        vertical-align: middle;\n",
       "    }\n",
       "\n",
       "    .dataframe tbody tr th {\n",
       "        vertical-align: top;\n",
       "    }\n",
       "\n",
       "    .dataframe thead th {\n",
       "        text-align: right;\n",
       "    }\n",
       "</style>\n",
       "<table border=\"1\" class=\"dataframe\">\n",
       "  <thead>\n",
       "    <tr style=\"text-align: right;\">\n",
       "      <th></th>\n",
       "      <th>Area Code</th>\n",
       "      <th>Area</th>\n",
       "      <th>Item Code</th>\n",
       "      <th>Item</th>\n",
       "      <th>Element Code</th>\n",
       "      <th>Element</th>\n",
       "      <th>Year Code</th>\n",
       "      <th>Year</th>\n",
       "      <th>Unit</th>\n",
       "      <th>Value</th>\n",
       "      <th>Flag</th>\n",
       "    </tr>\n",
       "  </thead>\n",
       "  <tbody>\n",
       "    <tr>\n",
       "      <td>0</td>\n",
       "      <td>2</td>\n",
       "      <td>Afghanistan</td>\n",
       "      <td>1107</td>\n",
       "      <td>Asses</td>\n",
       "      <td>5111</td>\n",
       "      <td>Stocks</td>\n",
       "      <td>1961</td>\n",
       "      <td>1961</td>\n",
       "      <td>Head</td>\n",
       "      <td>1300000.0</td>\n",
       "      <td>NaN</td>\n",
       "    </tr>\n",
       "    <tr>\n",
       "      <td>1</td>\n",
       "      <td>2</td>\n",
       "      <td>Afghanistan</td>\n",
       "      <td>1107</td>\n",
       "      <td>Asses</td>\n",
       "      <td>5111</td>\n",
       "      <td>Stocks</td>\n",
       "      <td>1962</td>\n",
       "      <td>1962</td>\n",
       "      <td>Head</td>\n",
       "      <td>851850.0</td>\n",
       "      <td>NaN</td>\n",
       "    </tr>\n",
       "    <tr>\n",
       "      <td>2</td>\n",
       "      <td>2</td>\n",
       "      <td>Afghanistan</td>\n",
       "      <td>1107</td>\n",
       "      <td>Asses</td>\n",
       "      <td>5111</td>\n",
       "      <td>Stocks</td>\n",
       "      <td>1963</td>\n",
       "      <td>1963</td>\n",
       "      <td>Head</td>\n",
       "      <td>1001112.0</td>\n",
       "      <td>NaN</td>\n",
       "    </tr>\n",
       "    <tr>\n",
       "      <td>3</td>\n",
       "      <td>2</td>\n",
       "      <td>Afghanistan</td>\n",
       "      <td>1107</td>\n",
       "      <td>Asses</td>\n",
       "      <td>5111</td>\n",
       "      <td>Stocks</td>\n",
       "      <td>1964</td>\n",
       "      <td>1964</td>\n",
       "      <td>Head</td>\n",
       "      <td>1150000.0</td>\n",
       "      <td>F</td>\n",
       "    </tr>\n",
       "    <tr>\n",
       "      <td>4</td>\n",
       "      <td>2</td>\n",
       "      <td>Afghanistan</td>\n",
       "      <td>1107</td>\n",
       "      <td>Asses</td>\n",
       "      <td>5111</td>\n",
       "      <td>Stocks</td>\n",
       "      <td>1965</td>\n",
       "      <td>1965</td>\n",
       "      <td>Head</td>\n",
       "      <td>1300000.0</td>\n",
       "      <td>NaN</td>\n",
       "    </tr>\n",
       "  </tbody>\n",
       "</table>\n",
       "</div>"
      ],
      "text/plain": [
       "   Area Code         Area  Item Code   Item  Element Code Element  Year Code  \\\n",
       "0          2  Afghanistan       1107  Asses          5111  Stocks       1961   \n",
       "1          2  Afghanistan       1107  Asses          5111  Stocks       1962   \n",
       "2          2  Afghanistan       1107  Asses          5111  Stocks       1963   \n",
       "3          2  Afghanistan       1107  Asses          5111  Stocks       1964   \n",
       "4          2  Afghanistan       1107  Asses          5111  Stocks       1965   \n",
       "\n",
       "   Year  Unit      Value Flag  \n",
       "0  1961  Head  1300000.0  NaN  \n",
       "1  1962  Head   851850.0  NaN  \n",
       "2  1963  Head  1001112.0  NaN  \n",
       "3  1964  Head  1150000.0    F  \n",
       "4  1965  Head  1300000.0  NaN  "
      ]
     },
     "execution_count": 94,
     "metadata": {},
     "output_type": "execute_result"
    }
   ],
   "source": [
    "livestock_df.head()"
   ]
  },
  {
   "cell_type": "code",
   "execution_count": 99,
   "metadata": {},
   "outputs": [],
   "source": [
    "world_livestock = livestock_df[livestock_df.Area=='World']"
   ]
  },
  {
   "cell_type": "code",
   "execution_count": 102,
   "metadata": {},
   "outputs": [],
   "source": [
    "world_cows = world_livestock[world_livestock.Item=='Cattle']"
   ]
  },
  {
   "cell_type": "code",
   "execution_count": 105,
   "metadata": {},
   "outputs": [
    {
     "data": {
      "image/png": "[encoded data removed]",
      "text/plain": [
       "<Figure size 432x288 with 1 Axes>"
      ]
     },
     "metadata": {
      "needs_background": "light"
     },
     "output_type": "display_data"
    }
   ],
   "source": [
    "plt.plot(world_livestock[world_livestock.Item=='Cattle'].Year.values, \n",
    "         world_livestock[world_livestock.Item=='Cattle'].Value.values)\n",
    "plt.show()"
   ]
  },
  {
   "cell_type": "code",
   "execution_count": 107,
   "metadata": {},
   "outputs": [
    {
     "data": {
      "image/png": "[encoded data removed]",
      "text/plain": [
       "<Figure size 432x288 with 1 Axes>"
      ]
     },
     "metadata": {
      "needs_background": "light"
     },
     "output_type": "display_data"
    }
   ],
   "source": [
    "plt.plot(world_livestock[world_livestock.Item=='Chickens'].Year.values, \n",
    "         world_livestock[world_livestock.Item=='Chickens'].Value.values)\n",
    "plt.show()"
   ]
  },
  {
   "cell_type": "code",
   "execution_count": 108,
   "metadata": {},
   "outputs": [
    {
     "data": {
      "image/png": "[encoded data removed]",
      "text/plain": [
       "<Figure size 432x288 with 1 Axes>"
      ]
     },
     "metadata": {
      "needs_background": "light"
     },
     "output_type": "display_data"
    }
   ],
   "source": [
    "plt.plot(world_livestock[world_livestock.Item=='Ducks'].Year.values, \n",
    "         world_livestock[world_livestock.Item=='Ducks'].Value.values)\n",
    "plt.show()"
   ]
  },
  {
   "cell_type": "code",
   "execution_count": 110,
   "metadata": {},
   "outputs": [
    {
     "data": {
      "image/png": "[encoded data removed]",
      "text/plain": [
       "<Figure size 432x288 with 1 Axes>"
      ]
     },
     "metadata": {
      "needs_background": "light"
     },
     "output_type": "display_data"
    }
   ],
   "source": [
    "plt.plot(world_livestock[world_livestock.Item=='Pigs'].Year.values, \n",
    "         world_livestock[world_livestock.Item=='Pigs'].Value.values)\n",
    "plt.show()"
   ]
  },
  {
   "cell_type": "code",
   "execution_count": 136,
   "metadata": {},
   "outputs": [],
   "source": [
    "continent_ducks = livestock_df[(livestock_df.Item=='Ducks') & (livestock_df.Area.isin(continents))]"
   ]
  },
  {
   "cell_type": "code",
   "execution_count": 137,
   "metadata": {},
   "outputs": [],
   "source": [
    "dataset3 = [continent_ducks[continent_ducks.Area==CTR].Value.values for CTR in continents]"
   ]
  },
  {
   "cell_type": "code",
   "execution_count": 138,
   "metadata": {},
   "outputs": [],
   "source": [
    "ind2 = range(continent_ducks.Year.min(), continent_ducks.Year.max()+1) "
   ]
  },
  {
   "cell_type": "code",
   "execution_count": 139,
   "metadata": {
    "scrolled": false
   },
   "outputs": [
    {
     "data": {
      "image/png": "[encoded data removed]",
      "text/plain": [
       "<Figure size 1008x576 with 1 Axes>"
      ]
     },
     "metadata": {
      "needs_background": "light"
     },
     "output_type": "display_data"
    }
   ],
   "source": [
    "plt.figure(figsize=(14,8))\n",
    "p1 = plt.bar(ind2, dataset3[0], color='r', label=continents[0])\n",
    "p2 = plt.bar(ind2, dataset3[1], bottom=dataset3[0], color='b', label=continents[1])\n",
    "p3 = plt.bar(ind2, dataset3[2], bottom=dataset3[0]+dataset3[1], color='g', label=continents[2])\n",
    "p4 = plt.bar(ind2, dataset3[3], bottom=dataset3[0]+dataset3[1]+dataset3[2], color='c', label=continents[3])\n",
    "p5 = plt.bar(ind2, dataset3[4], bottom=dataset3[0]+dataset3[1]+dataset3[2]+dataset3[3], color='y', label=continents[4])\n",
    "plt.legend()\n",
    "plt.title('Stock of Ducks per Continent')\n",
    "plt.show()"
   ]
  },
  {
   "cell_type": "code",
   "execution_count": 165,
   "metadata": {},
   "outputs": [],
   "source": [
    "countries = population_df[population_df['Area Code']<500]['Area'].drop_duplicates().values"
   ]
  },
  {
   "cell_type": "code",
   "execution_count": 181,
   "metadata": {},
   "outputs": [],
   "source": [
    "country_livestocks = livestock_df[livestock_df.Area.isin(countries)]\n",
    "country_populations = population_df[(population_df.Area.isin(countries)) \n",
    "                                    & (population_df.Element=='Total Population - Both sexes')].copy()"
   ]
  },
  {
   "cell_type": "code",
   "execution_count": 183,
   "metadata": {},
   "outputs": [],
   "source": [
    "country_populations['Population'] = country_populations.Value * 1000"
   ]
  },
  {
   "cell_type": "code",
   "execution_count": 203,
   "metadata": {},
   "outputs": [],
   "source": [
    "country_metadata = pd.read_csv('Data/FAOSTAT_data_11-19-2019.csv')"
   ]
  },
  {
   "cell_type": "code",
   "execution_count": 189,
   "metadata": {},
   "outputs": [],
   "source": [
    "country_populations = country_populations[['Area', 'Year', 'Population']]"
   ]
  },
  {
   "cell_type": "code",
   "execution_count": 194,
   "metadata": {},
   "outputs": [
    {
     "data": {
      "text/html": [
       "<div>\n",
       "<style scoped>\n",
       "    .dataframe tbody tr th:only-of-type {\n",
       "        vertical-align: middle;\n",
       "    }\n",
       "\n",
       "    .dataframe tbody tr th {\n",
       "        vertical-align: top;\n",
       "    }\n",
       "\n",
       "    .dataframe thead th {\n",
       "        text-align: right;\n",
       "    }\n",
       "</style>\n",
       "<table border=\"1\" class=\"dataframe\">\n",
       "  <thead>\n",
       "    <tr style=\"text-align: right;\">\n",
       "      <th></th>\n",
       "      <th>Area</th>\n",
       "      <th>Year</th>\n",
       "      <th>Population</th>\n",
       "    </tr>\n",
       "  </thead>\n",
       "  <tbody>\n",
       "    <tr>\n",
       "      <td>0</td>\n",
       "      <td>Afghanistan</td>\n",
       "      <td>1950</td>\n",
       "      <td>7752120.0</td>\n",
       "    </tr>\n",
       "    <tr>\n",
       "      <td>1</td>\n",
       "      <td>Afghanistan</td>\n",
       "      <td>1951</td>\n",
       "      <td>7839510.0</td>\n",
       "    </tr>\n",
       "    <tr>\n",
       "      <td>2</td>\n",
       "      <td>Afghanistan</td>\n",
       "      <td>1952</td>\n",
       "      <td>7934980.0</td>\n",
       "    </tr>\n",
       "    <tr>\n",
       "      <td>3</td>\n",
       "      <td>Afghanistan</td>\n",
       "      <td>1953</td>\n",
       "      <td>8038600.0</td>\n",
       "    </tr>\n",
       "    <tr>\n",
       "      <td>4</td>\n",
       "      <td>Afghanistan</td>\n",
       "      <td>1954</td>\n",
       "      <td>8150450.0</td>\n",
       "    </tr>\n",
       "  </tbody>\n",
       "</table>\n",
       "</div>"
      ],
      "text/plain": [
       "          Area  Year  Population\n",
       "0  Afghanistan  1950   7752120.0\n",
       "1  Afghanistan  1951   7839510.0\n",
       "2  Afghanistan  1952   7934980.0\n",
       "3  Afghanistan  1953   8038600.0\n",
       "4  Afghanistan  1954   8150450.0"
      ]
     },
     "execution_count": 194,
     "metadata": {},
     "output_type": "execute_result"
    }
   ],
   "source": [
    "country_populations.head()"
   ]
  },
  {
   "cell_type": "code",
   "execution_count": 206,
   "metadata": {},
   "outputs": [],
   "source": [
    "country_to_continent = country_metadata[country_metadata['Country Group'].isin(continents)]\n",
    "country_to_continent = country_to_continent[['Country Group', 'Country']]"
   ]
  },
  {
   "cell_type": "code",
   "execution_count": 210,
   "metadata": {},
   "outputs": [],
   "source": [
    "cc_population_df = pd.merge(country_populations, country_to_continent, \n",
    "                            left_on='Area', right_on='Country', how='inner')"
   ]
  },
  {
   "cell_type": "code",
   "execution_count": 212,
   "metadata": {},
   "outputs": [],
   "source": [
    "cc_population_df = cc_population_df[['Year', 'Country Group', 'Country', 'Population']]"
   ]
  },
  {
   "cell_type": "code",
   "execution_count": 215,
   "metadata": {},
   "outputs": [],
   "source": [
    "cc_population_df = cc_population_df.rename(columns={'Country Group': 'Continent'})"
   ]
  },
  {
   "cell_type": "code",
   "execution_count": 245,
   "metadata": {},
   "outputs": [],
   "source": [
    "pop_and_livestock = pd.merge(cc_population_df, livestock_df[['Area', 'Year', 'Item', 'Value']], \n",
    "                             left_on=['Year', 'Country'], right_on=['Year', 'Area'], how='inner')"
   ]
  },
  {
   "cell_type": "code",
   "execution_count": 246,
   "metadata": {},
   "outputs": [],
   "source": [
    "pop_and_livestock = pop_and_livestock.rename(columns={'Value': 'livestock_count'})"
   ]
  },
  {
   "cell_type": "code",
   "execution_count": 247,
   "metadata": {},
   "outputs": [
    {
     "data": {
      "text/html": [
       "<div>\n",
       "<style scoped>\n",
       "    .dataframe tbody tr th:only-of-type {\n",
       "        vertical-align: middle;\n",
       "    }\n",
       "\n",
       "    .dataframe tbody tr th {\n",
       "        vertical-align: top;\n",
       "    }\n",
       "\n",
       "    .dataframe thead th {\n",
       "        text-align: right;\n",
       "    }\n",
       "</style>\n",
       "<table border=\"1\" class=\"dataframe\">\n",
       "  <thead>\n",
       "    <tr style=\"text-align: right;\">\n",
       "      <th></th>\n",
       "      <th>Year</th>\n",
       "      <th>Continent</th>\n",
       "      <th>Country</th>\n",
       "      <th>Population</th>\n",
       "      <th>Area</th>\n",
       "      <th>Item</th>\n",
       "      <th>livestock_count</th>\n",
       "    </tr>\n",
       "  </thead>\n",
       "  <tbody>\n",
       "    <tr>\n",
       "      <td>0</td>\n",
       "      <td>1961</td>\n",
       "      <td>Asia</td>\n",
       "      <td>Afghanistan</td>\n",
       "      <td>9166760.0</td>\n",
       "      <td>Afghanistan</td>\n",
       "      <td>Asses</td>\n",
       "      <td>1300000.0</td>\n",
       "    </tr>\n",
       "    <tr>\n",
       "      <td>1</td>\n",
       "      <td>1961</td>\n",
       "      <td>Asia</td>\n",
       "      <td>Afghanistan</td>\n",
       "      <td>9166760.0</td>\n",
       "      <td>Afghanistan</td>\n",
       "      <td>Camels</td>\n",
       "      <td>250000.0</td>\n",
       "    </tr>\n",
       "    <tr>\n",
       "      <td>2</td>\n",
       "      <td>1961</td>\n",
       "      <td>Asia</td>\n",
       "      <td>Afghanistan</td>\n",
       "      <td>9166760.0</td>\n",
       "      <td>Afghanistan</td>\n",
       "      <td>Cattle</td>\n",
       "      <td>2900000.0</td>\n",
       "    </tr>\n",
       "    <tr>\n",
       "      <td>3</td>\n",
       "      <td>1961</td>\n",
       "      <td>Asia</td>\n",
       "      <td>Afghanistan</td>\n",
       "      <td>9166760.0</td>\n",
       "      <td>Afghanistan</td>\n",
       "      <td>Chickens</td>\n",
       "      <td>4700.0</td>\n",
       "    </tr>\n",
       "    <tr>\n",
       "      <td>4</td>\n",
       "      <td>1961</td>\n",
       "      <td>Asia</td>\n",
       "      <td>Afghanistan</td>\n",
       "      <td>9166760.0</td>\n",
       "      <td>Afghanistan</td>\n",
       "      <td>Goats</td>\n",
       "      <td>4200000.0</td>\n",
       "    </tr>\n",
       "  </tbody>\n",
       "</table>\n",
       "</div>"
      ],
      "text/plain": [
       "   Year Continent      Country  Population         Area      Item  \\\n",
       "0  1961      Asia  Afghanistan   9166760.0  Afghanistan     Asses   \n",
       "1  1961      Asia  Afghanistan   9166760.0  Afghanistan    Camels   \n",
       "2  1961      Asia  Afghanistan   9166760.0  Afghanistan    Cattle   \n",
       "3  1961      Asia  Afghanistan   9166760.0  Afghanistan  Chickens   \n",
       "4  1961      Asia  Afghanistan   9166760.0  Afghanistan     Goats   \n",
       "\n",
       "   livestock_count  \n",
       "0        1300000.0  \n",
       "1         250000.0  \n",
       "2        2900000.0  \n",
       "3           4700.0  \n",
       "4        4200000.0  "
      ]
     },
     "execution_count": 247,
     "metadata": {},
     "output_type": "execute_result"
    }
   ],
   "source": [
    "pop_and_livestock.head()"
   ]
  },
  {
   "cell_type": "code",
   "execution_count": 251,
   "metadata": {},
   "outputs": [],
   "source": [
    "pop_and_livestock_continent = pop_and_livestock.groupby(['Continent', 'Item', 'Year'], as_index=False).agg('sum')"
   ]
  },
  {
   "cell_type": "code",
   "execution_count": 257,
   "metadata": {},
   "outputs": [],
   "source": [
    "pop_and_livestock_continent['livestock_pc'] = pop_and_livestock_continent.livestock_count/pop_and_livestock_continent.Population"
   ]
  },
  {
   "cell_type": "code",
   "execution_count": 258,
   "metadata": {},
   "outputs": [],
   "source": [
    "continent_ducks_pc = pop_and_livestock_continent[(pop_and_livestock_continent.Item=='Ducks')]"
   ]
  },
  {
   "cell_type": "code",
   "execution_count": 259,
   "metadata": {},
   "outputs": [],
   "source": [
    "dataset4 = [continent_ducks_pc[continent_ducks_pc.Continent==CTR].livestock_pc.values for CTR in continents]"
   ]
  },
  {
   "cell_type": "code",
   "execution_count": 260,
   "metadata": {},
   "outputs": [],
   "source": [
    "ind3 = range(continent_ducks_pc.Year.min(), continent_ducks_pc.Year.max()+1) "
   ]
  },
  {
   "cell_type": "code",
   "execution_count": 262,
   "metadata": {
    "scrolled": false
   },
   "outputs": [
    {
     "data": {
      "image/png": "[encoded data removed]",
      "text/plain": [
       "<Figure size 1008x576 with 1 Axes>"
      ]
     },
     "metadata": {
      "needs_background": "light"
     },
     "output_type": "display_data"
    }
   ],
   "source": [
    "plt.figure(figsize=(14,8))\n",
    "p1 = plt.bar(ind3, dataset4[0], color='r', label=continents[0])\n",
    "p2 = plt.bar(ind3, dataset4[1], bottom=dataset4[0], color='b', label=continents[1])\n",
    "p3 = plt.bar(ind3, dataset4[2], bottom=dataset4[0]+dataset4[1], color='g', label=continents[2])\n",
    "p4 = plt.bar(ind3, dataset4[3], bottom=dataset4[0]+dataset4[1]+dataset4[2], color='c', label=continents[3])\n",
    "p5 = plt.bar(ind3, dataset4[4], bottom=dataset4[0]+dataset4[1]+dataset4[2]+dataset4[3], color='y', label=continents[4])\n",
    "plt.legend()\n",
    "plt.title('Stock of Ducks per Capita per Continent')\n",
    "plt.show()"
   ]
  }
 ],
 "metadata": {
  "kernelspec": {
   "display_name": "Python 3",
   "language": "python",
   "name": "python3"
  },
  "language_info": {
   "codemirror_mode": {
    "name": "ipython",
    "version": 3
   },
   "file_extension": ".py",
   "mimetype": "text/x-python",
   "name": "python",
   "nbconvert_exporter": "python",
   "pygments_lexer": "ipython3",
   "version": "3.7.3"
  }
 },
 "nbformat": 4,
 "nbformat_minor": 2
}
